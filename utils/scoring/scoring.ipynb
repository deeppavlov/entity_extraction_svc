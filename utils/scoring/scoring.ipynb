{
 "cells": [
  {
   "cell_type": "code",
   "execution_count": 15,
   "outputs": [],
   "source": [
    "import pandas as pd\n",
    "import requests\n",
    "from tqdm import tqdm\n",
    "\n",
    "import dandelion"
   ],
   "metadata": {
    "collapsed": false,
    "pycharm": {
     "name": "#%%\n"
    }
   }
  },
  {
   "cell_type": "code",
   "execution_count": 16,
   "outputs": [
    {
     "name": "stdout",
     "output_type": "stream",
     "text": [
      "--2022-06-27 20:53:31--  https://files.deeppavlov.ai/deeppavlov_data/entity_linking/test_dataset.pickle\r\n",
      "Resolving files.deeppavlov.ai (files.deeppavlov.ai)... 178.63.27.41\r\n",
      "Connecting to files.deeppavlov.ai (files.deeppavlov.ai)|178.63.27.41|:443... connected.\r\n",
      "HTTP request sent, awaiting response... 200 OK\r\n",
      "Length: 17668715 (17M) [application/octet-stream]\r\n",
      "Saving to: ‘test_dataset.pickle’\r\n",
      "\r\n",
      "test_dataset.pickle 100%[===================>]  16.85M  9.26MB/s    in 1.8s    \r\n",
      "\r\n",
      "2022-06-27 20:53:33 (9.26 MB/s) - ‘test_dataset.pickle’ saved [17668715/17668715]\r\n",
      "\r\n"
     ]
    }
   ],
   "source": [
    "!wget https://files.deeppavlov.ai/deeppavlov_data/entity_linking/test_dataset.pickle"
   ],
   "metadata": {
    "collapsed": false,
    "pycharm": {
     "name": "#%%\n"
    }
   }
  },
  {
   "cell_type": "code",
   "execution_count": 17,
   "outputs": [],
   "source": [
    "import pickle\n",
    "\n",
    "with open(\"test_dataset.pickle\", \"rb\") as dataset_f:\n",
    "    dataset = pickle.load(dataset_f)\n",
    "\n",
    "full_dataset = []\n",
    "for kind, value_list in dataset.items():\n",
    "    data_rows = [{\"kind\": kind, \"full_text\": value} for value in value_list]\n",
    "    full_dataset += data_rows\n",
    "\n",
    "dataset_df = pd.DataFrame(full_dataset)\n",
    "slice_size = 3500\n",
    "max_text_len = dataset_df[\"full_text\"].str.len().max()\n",
    "max_slices = max_text_len // slice_size\n",
    "\n",
    "for s_idx in range(max_slices):\n",
    "    start = s_idx * slice_size\n",
    "    stop = start + slice_size\n",
    "    dataset_df[f\"text_{s_idx}\"] = dataset_df[\"full_text\"].str.slice(start, stop)\n",
    "\n",
    "dataset_df = dataset_df.melt(id_vars=[\"kind\", \"full_text\"], value_name=\"text\")\n",
    "dataset_df.replace(\"\", float(\"NaN\"), inplace=True)\n",
    "dataset_df.dropna(subset=[\"text\"], inplace=True)\n",
    "dataset_df.reset_index(inplace=True)\n",
    "dataset_df[[\"kind\", \"text\"]].to_csv(\"test_dataset.csv\", sep=\"|\", index=False)"
   ],
   "metadata": {
    "collapsed": false,
    "pycharm": {
     "name": "#%%\n"
    }
   }
  },
  {
   "cell_type": "code",
   "execution_count": 18,
   "outputs": [],
   "source": [
    "!rm test_dataset.pickle"
   ],
   "metadata": {
    "collapsed": false,
    "pycharm": {
     "name": "#%%\n"
    }
   }
  },
  {
   "cell_type": "code",
   "execution_count": 19,
   "outputs": [
    {
     "data": {
      "text/plain": "            kind                                               text\n0     news_texts  Chicago church embraces ‘The Gospel According ...\n1     news_texts  Opinion | Endorsements for Montgomery County C...\n2     news_texts  Arch Manning, nephew of Peyton and Eli Manning...\n3     news_texts  NBA draft winners and losers: Banchero, Smith ...\n4     news_texts  Gaetz, Brooks, Biggs, Gohmert, Perry accused o...\n...          ...                                                ...\n6101  blog_texts  shing minerality on the palate and blossom sce...\n6102  blog_texts  he QR code located on the site or on any 2020 ...\n6103  blog_texts  baker’s chocolate with a hint of acidity.Fresh...\n6104  blog_texts  egan with eco-friendly packaging — sustainable...\n6105  blog_texts  suite of ultra-premium crafted cocktails avail...\n\n[6106 rows x 2 columns]",
      "text/html": "<div>\n<style scoped>\n    .dataframe tbody tr th:only-of-type {\n        vertical-align: middle;\n    }\n\n    .dataframe tbody tr th {\n        vertical-align: top;\n    }\n\n    .dataframe thead th {\n        text-align: right;\n    }\n</style>\n<table border=\"1\" class=\"dataframe\">\n  <thead>\n    <tr style=\"text-align: right;\">\n      <th></th>\n      <th>kind</th>\n      <th>text</th>\n    </tr>\n  </thead>\n  <tbody>\n    <tr>\n      <th>0</th>\n      <td>news_texts</td>\n      <td>Chicago church embraces ‘The Gospel According ...</td>\n    </tr>\n    <tr>\n      <th>1</th>\n      <td>news_texts</td>\n      <td>Opinion | Endorsements for Montgomery County C...</td>\n    </tr>\n    <tr>\n      <th>2</th>\n      <td>news_texts</td>\n      <td>Arch Manning, nephew of Peyton and Eli Manning...</td>\n    </tr>\n    <tr>\n      <th>3</th>\n      <td>news_texts</td>\n      <td>NBA draft winners and losers: Banchero, Smith ...</td>\n    </tr>\n    <tr>\n      <th>4</th>\n      <td>news_texts</td>\n      <td>Gaetz, Brooks, Biggs, Gohmert, Perry accused o...</td>\n    </tr>\n    <tr>\n      <th>...</th>\n      <td>...</td>\n      <td>...</td>\n    </tr>\n    <tr>\n      <th>6101</th>\n      <td>blog_texts</td>\n      <td>shing minerality on the palate and blossom sce...</td>\n    </tr>\n    <tr>\n      <th>6102</th>\n      <td>blog_texts</td>\n      <td>he QR code located on the site or on any 2020 ...</td>\n    </tr>\n    <tr>\n      <th>6103</th>\n      <td>blog_texts</td>\n      <td>baker’s chocolate with a hint of acidity.Fresh...</td>\n    </tr>\n    <tr>\n      <th>6104</th>\n      <td>blog_texts</td>\n      <td>egan with eco-friendly packaging — sustainable...</td>\n    </tr>\n    <tr>\n      <th>6105</th>\n      <td>blog_texts</td>\n      <td>suite of ultra-premium crafted cocktails avail...</td>\n    </tr>\n  </tbody>\n</table>\n<p>6106 rows × 2 columns</p>\n</div>"
     },
     "execution_count": 19,
     "metadata": {},
     "output_type": "execute_result"
    }
   ],
   "source": [
    "dataset_df = pd.read_csv(\"test_dataset.csv\", sep=\"|\")\n",
    "dataset_df"
   ],
   "metadata": {
    "collapsed": false,
    "pycharm": {
     "name": "#%%\n"
    }
   }
  },
  {
   "cell_type": "code",
   "execution_count": 20,
   "outputs": [],
   "source": [
    "def run_dandelion(df, fresh_start=True):\n",
    "    results = []\n",
    "\n",
    "    with requests.Session() as sess:\n",
    "        for idx, row in tqdm(df.iterrows(), total=len(df)):\n",
    "            if not pd.isna(row.get(\"dandelion_results\", float(\"NaN\"))):\n",
    "                continue\n",
    "\n",
    "            data = error = exception = float(\"NaN\")\n",
    "            try:\n",
    "                result = dandelion.extract_dandelion(sess, row[\"text\"])\n",
    "                if result.get(\"error\"):\n",
    "                    error = result\n",
    "                    if error.get(\"code\") in [\"error.authenticationError\", \"error.forbiddenError\"]:\n",
    "                        print(\"Exceeded API token limit, come back tomorrow!\")\n",
    "                        break\n",
    "                else:\n",
    "                    data = result\n",
    "            except Exception as e:\n",
    "                exception = f\"{type(e)}: {e}\"\n",
    "            results.append({\"index\": idx, \"dandelion_results\": data, \"dandelion_error\": error, \"script_exception\": exception})\n",
    "\n",
    "    if results:\n",
    "        results_df = pd.DataFrame(results)\n",
    "        results_df.set_index(\"index\", inplace=True)\n",
    "        if fresh_start:\n",
    "            results_df = pd.merge(df, results_df, left_index=True, right_index=True)\n",
    "        else:\n",
    "            df.update(results_df, overwrite=False)\n",
    "            results_df = df\n",
    "\n",
    "        results_df.to_csv(\"test_dataset_dandelion.csv\", sep=\"|\", index=False)\n",
    "    else:\n",
    "        results_df = df\n",
    "\n",
    "    return results_df\n"
   ],
   "metadata": {
    "collapsed": false,
    "pycharm": {
     "name": "#%%\n"
    }
   }
  },
  {
   "cell_type": "code",
   "execution_count": 27,
   "outputs": [
    {
     "name": "stderr",
     "output_type": "stream",
     "text": [
      "\n",
      "  0%|          | 0/6106 [00:00<?, ?it/s]\u001B[A"
     ]
    },
    {
     "name": "stdout",
     "output_type": "stream",
     "text": [
      "Exceeded API token limit, come back tomorrow!\n"
     ]
    },
    {
     "name": "stderr",
     "output_type": "stream",
     "text": [
      "\n"
     ]
    },
    {
     "data": {
      "text/plain": "            kind                                               text\n0     news_texts  Chicago church embraces ‘The Gospel According ...\n1     news_texts  Opinion | Endorsements for Montgomery County C...\n2     news_texts  Arch Manning, nephew of Peyton and Eli Manning...\n3     news_texts  NBA draft winners and losers: Banchero, Smith ...\n4     news_texts  Gaetz, Brooks, Biggs, Gohmert, Perry accused o...\n...          ...                                                ...\n6101  blog_texts  shing minerality on the palate and blossom sce...\n6102  blog_texts  he QR code located on the site or on any 2020 ...\n6103  blog_texts  baker’s chocolate with a hint of acidity.Fresh...\n6104  blog_texts  egan with eco-friendly packaging — sustainable...\n6105  blog_texts  suite of ultra-premium crafted cocktails avail...\n\n[6106 rows x 2 columns]",
      "text/html": "<div>\n<style scoped>\n    .dataframe tbody tr th:only-of-type {\n        vertical-align: middle;\n    }\n\n    .dataframe tbody tr th {\n        vertical-align: top;\n    }\n\n    .dataframe thead th {\n        text-align: right;\n    }\n</style>\n<table border=\"1\" class=\"dataframe\">\n  <thead>\n    <tr style=\"text-align: right;\">\n      <th></th>\n      <th>kind</th>\n      <th>text</th>\n    </tr>\n  </thead>\n  <tbody>\n    <tr>\n      <th>0</th>\n      <td>news_texts</td>\n      <td>Chicago church embraces ‘The Gospel According ...</td>\n    </tr>\n    <tr>\n      <th>1</th>\n      <td>news_texts</td>\n      <td>Opinion | Endorsements for Montgomery County C...</td>\n    </tr>\n    <tr>\n      <th>2</th>\n      <td>news_texts</td>\n      <td>Arch Manning, nephew of Peyton and Eli Manning...</td>\n    </tr>\n    <tr>\n      <th>3</th>\n      <td>news_texts</td>\n      <td>NBA draft winners and losers: Banchero, Smith ...</td>\n    </tr>\n    <tr>\n      <th>4</th>\n      <td>news_texts</td>\n      <td>Gaetz, Brooks, Biggs, Gohmert, Perry accused o...</td>\n    </tr>\n    <tr>\n      <th>...</th>\n      <td>...</td>\n      <td>...</td>\n    </tr>\n    <tr>\n      <th>6101</th>\n      <td>blog_texts</td>\n      <td>shing minerality on the palate and blossom sce...</td>\n    </tr>\n    <tr>\n      <th>6102</th>\n      <td>blog_texts</td>\n      <td>he QR code located on the site or on any 2020 ...</td>\n    </tr>\n    <tr>\n      <th>6103</th>\n      <td>blog_texts</td>\n      <td>baker’s chocolate with a hint of acidity.Fresh...</td>\n    </tr>\n    <tr>\n      <th>6104</th>\n      <td>blog_texts</td>\n      <td>egan with eco-friendly packaging — sustainable...</td>\n    </tr>\n    <tr>\n      <th>6105</th>\n      <td>blog_texts</td>\n      <td>suite of ultra-premium crafted cocktails avail...</td>\n    </tr>\n  </tbody>\n</table>\n<p>6106 rows × 2 columns</p>\n</div>"
     },
     "execution_count": 27,
     "metadata": {},
     "output_type": "execute_result"
    }
   ],
   "source": [
    "# Fresh run\n",
    "dandelion_results_df = run_dandelion(dataset_df, fresh_start=True)\n",
    "dandelion_results_df"
   ],
   "metadata": {
    "collapsed": false,
    "pycharm": {
     "name": "#%%\n"
    }
   }
  },
  {
   "cell_type": "code",
   "execution_count": 26,
   "outputs": [
    {
     "name": "stderr",
     "output_type": "stream",
     "text": [
      "\n",
      "  0%|          | 0/9 [00:00<?, ?it/s]\u001B[A\n",
      " 11%|█         | 1/9 [00:00<00:02,  3.15it/s]\u001B[A\n",
      " 33%|███▎      | 3/9 [00:00<00:01,  4.05it/s]\u001B[A\n",
      " 56%|█████▌    | 5/9 [00:00<00:00,  5.05it/s]\u001B[A\n",
      " 78%|███████▊  | 7/9 [00:00<00:00,  6.09it/s]\u001B[A\n",
      "100%|██████████| 9/9 [00:00<00:00,  9.07it/s]\u001B[A\n"
     ]
    },
    {
     "data": {
      "text/plain": "         kind                                               text  \\\n0  news_texts  Bavarian castle hosting G-7 was Nazi vacation ...   \n1  news_texts  Warzone Season 2 Reloaded loadout tips: A guid...   \n2  news_texts  All-Met history - The Washington Post Accessib...   \n3  news_texts  'Elden Ring' and 'Lost Ark' tackle fantasy RPG...   \n4  news_texts  Outlook  http://www.washingtonpost.com/pb/outl...   \n5  news_texts  Bavarian castle hosting G-7 was Nazi vacation ...   \n6  news_texts  Allstate, Progressive drop Maine insurance fir...   \n7  news_texts  Mishael Morgan is 1st Black lead winner at Day...   \n8  blog_texts  Why Everything is Suddenly Getting More Expens...   \n\n   dandelion_results_x                                  dandelion_error_x  \\\n0                  NaN  {'error': True, 'status': 414, 'code': 'error....   \n1                  NaN  {'error': True, 'status': 414, 'code': 'error....   \n2                  NaN  {'error': True, 'status': 414, 'code': 'error....   \n3                  NaN  {'error': True, 'status': 414, 'code': 'error....   \n4                  NaN  {'error': True, 'status': 414, 'code': 'error....   \n5                  NaN  {'error': True, 'status': 414, 'code': 'error....   \n6                  NaN  {'error': True, 'status': 414, 'code': 'error....   \n7                  NaN  {'error': True, 'status': 414, 'code': 'error....   \n8                  NaN  {'error': True, 'status': 414, 'code': 'error....   \n\n   script_exception_x  dandelion_results_y  \\\n0                 NaN                  NaN   \n1                 NaN                  NaN   \n2                 NaN                  NaN   \n3                 NaN                  NaN   \n4                 NaN                  NaN   \n5                 NaN                  NaN   \n6                 NaN                  NaN   \n7                 NaN                  NaN   \n8                 NaN                  NaN   \n\n                                   dandelion_error_y  script_exception_y  \n0  {'error': True, 'status': 414, 'code': 'error....                 NaN  \n1  {'error': True, 'status': 414, 'code': 'error....                 NaN  \n2  {'error': True, 'status': 414, 'code': 'error....                 NaN  \n3  {'error': True, 'status': 414, 'code': 'error....                 NaN  \n4  {'error': True, 'status': 414, 'code': 'error....                 NaN  \n5  {'error': True, 'status': 414, 'code': 'error....                 NaN  \n6  {'error': True, 'status': 414, 'code': 'error....                 NaN  \n7  {'error': True, 'status': 414, 'code': 'error....                 NaN  \n8  {'error': True, 'status': 414, 'code': 'error....                 NaN  ",
      "text/html": "<div>\n<style scoped>\n    .dataframe tbody tr th:only-of-type {\n        vertical-align: middle;\n    }\n\n    .dataframe tbody tr th {\n        vertical-align: top;\n    }\n\n    .dataframe thead th {\n        text-align: right;\n    }\n</style>\n<table border=\"1\" class=\"dataframe\">\n  <thead>\n    <tr style=\"text-align: right;\">\n      <th></th>\n      <th>kind</th>\n      <th>text</th>\n      <th>dandelion_results_x</th>\n      <th>dandelion_error_x</th>\n      <th>script_exception_x</th>\n      <th>dandelion_results_y</th>\n      <th>dandelion_error_y</th>\n      <th>script_exception_y</th>\n    </tr>\n  </thead>\n  <tbody>\n    <tr>\n      <th>0</th>\n      <td>news_texts</td>\n      <td>Bavarian castle hosting G-7 was Nazi vacation ...</td>\n      <td>NaN</td>\n      <td>{'error': True, 'status': 414, 'code': 'error....</td>\n      <td>NaN</td>\n      <td>NaN</td>\n      <td>{'error': True, 'status': 414, 'code': 'error....</td>\n      <td>NaN</td>\n    </tr>\n    <tr>\n      <th>1</th>\n      <td>news_texts</td>\n      <td>Warzone Season 2 Reloaded loadout tips: A guid...</td>\n      <td>NaN</td>\n      <td>{'error': True, 'status': 414, 'code': 'error....</td>\n      <td>NaN</td>\n      <td>NaN</td>\n      <td>{'error': True, 'status': 414, 'code': 'error....</td>\n      <td>NaN</td>\n    </tr>\n    <tr>\n      <th>2</th>\n      <td>news_texts</td>\n      <td>All-Met history - The Washington Post Accessib...</td>\n      <td>NaN</td>\n      <td>{'error': True, 'status': 414, 'code': 'error....</td>\n      <td>NaN</td>\n      <td>NaN</td>\n      <td>{'error': True, 'status': 414, 'code': 'error....</td>\n      <td>NaN</td>\n    </tr>\n    <tr>\n      <th>3</th>\n      <td>news_texts</td>\n      <td>'Elden Ring' and 'Lost Ark' tackle fantasy RPG...</td>\n      <td>NaN</td>\n      <td>{'error': True, 'status': 414, 'code': 'error....</td>\n      <td>NaN</td>\n      <td>NaN</td>\n      <td>{'error': True, 'status': 414, 'code': 'error....</td>\n      <td>NaN</td>\n    </tr>\n    <tr>\n      <th>4</th>\n      <td>news_texts</td>\n      <td>Outlook  http://www.washingtonpost.com/pb/outl...</td>\n      <td>NaN</td>\n      <td>{'error': True, 'status': 414, 'code': 'error....</td>\n      <td>NaN</td>\n      <td>NaN</td>\n      <td>{'error': True, 'status': 414, 'code': 'error....</td>\n      <td>NaN</td>\n    </tr>\n    <tr>\n      <th>5</th>\n      <td>news_texts</td>\n      <td>Bavarian castle hosting G-7 was Nazi vacation ...</td>\n      <td>NaN</td>\n      <td>{'error': True, 'status': 414, 'code': 'error....</td>\n      <td>NaN</td>\n      <td>NaN</td>\n      <td>{'error': True, 'status': 414, 'code': 'error....</td>\n      <td>NaN</td>\n    </tr>\n    <tr>\n      <th>6</th>\n      <td>news_texts</td>\n      <td>Allstate, Progressive drop Maine insurance fir...</td>\n      <td>NaN</td>\n      <td>{'error': True, 'status': 414, 'code': 'error....</td>\n      <td>NaN</td>\n      <td>NaN</td>\n      <td>{'error': True, 'status': 414, 'code': 'error....</td>\n      <td>NaN</td>\n    </tr>\n    <tr>\n      <th>7</th>\n      <td>news_texts</td>\n      <td>Mishael Morgan is 1st Black lead winner at Day...</td>\n      <td>NaN</td>\n      <td>{'error': True, 'status': 414, 'code': 'error....</td>\n      <td>NaN</td>\n      <td>NaN</td>\n      <td>{'error': True, 'status': 414, 'code': 'error....</td>\n      <td>NaN</td>\n    </tr>\n    <tr>\n      <th>8</th>\n      <td>blog_texts</td>\n      <td>Why Everything is Suddenly Getting More Expens...</td>\n      <td>NaN</td>\n      <td>{'error': True, 'status': 414, 'code': 'error....</td>\n      <td>NaN</td>\n      <td>NaN</td>\n      <td>{'error': True, 'status': 414, 'code': 'error....</td>\n      <td>NaN</td>\n    </tr>\n  </tbody>\n</table>\n</div>"
     },
     "execution_count": 26,
     "metadata": {},
     "output_type": "execute_result"
    }
   ],
   "source": [
    "# Run again using dandelion_results_df to update missing results\n",
    "dandelion_results_df = pd.read_csv(\"test_dataset_dandelion.csv\", sep=\"|\")\n",
    "dandelion_results_df = run_dandelion(dandelion_results_df, fresh_start=False)\n",
    "dandelion_results_df"
   ],
   "metadata": {
    "collapsed": false,
    "pycharm": {
     "name": "#%%\n"
    }
   }
  },
  {
   "cell_type": "code",
   "execution_count": 23,
   "outputs": [
    {
     "data": {
      "text/plain": "            kind                                               text  \\\n0     news_texts  Chicago church embraces ‘The Gospel According ...   \n1     news_texts  Opinion | Endorsements for Montgomery County C...   \n2     news_texts  Arch Manning, nephew of Peyton and Eli Manning...   \n3     news_texts  NBA draft winners and losers: Banchero, Smith ...   \n4     news_texts  Gaetz, Brooks, Biggs, Gohmert, Perry accused o...   \n...          ...                                                ...   \n6101  blog_texts  shing minerality on the palate and blossom sce...   \n6102  blog_texts  he QR code located on the site or on any 2020 ...   \n6103  blog_texts  baker’s chocolate with a hint of acidity.Fresh...   \n6104  blog_texts  egan with eco-friendly packaging — sustainable...   \n6105  blog_texts  suite of ultra-premium crafted cocktails avail...   \n\n                                      dandelion_results  \\\n0     {'time': 96, 'annotations': [{'start': 0, 'end...   \n1     {'time': 92, 'annotations': [{'start': 27, 'en...   \n2     {'time': 137, 'annotations': [{'start': 0, 'en...   \n3     {'time': 119, 'annotations': [{'start': 30, 'e...   \n4     {'time': 148, 'annotations': [{'start': 0, 'en...   \n...                                                 ...   \n6101                                                NaN   \n6102                                                NaN   \n6103                                                NaN   \n6104                                                NaN   \n6105                                                NaN   \n\n                                        dandelion_error script_exception  \n0                                                   NaN              NaN  \n1                                                   NaN              NaN  \n2                                                   NaN              NaN  \n3                                                   NaN              NaN  \n4                                                   NaN              NaN  \n...                                                 ...              ...  \n6101  {'error': True, 'status': 403, 'code': 'error....              NaN  \n6102  {'error': True, 'status': 403, 'code': 'error....              NaN  \n6103  {'error': True, 'status': 403, 'code': 'error....              NaN  \n6104  {'error': True, 'status': 403, 'code': 'error....              NaN  \n6105  {'error': True, 'status': 403, 'code': 'error....              NaN  \n\n[6106 rows x 5 columns]",
      "text/html": "<div>\n<style scoped>\n    .dataframe tbody tr th:only-of-type {\n        vertical-align: middle;\n    }\n\n    .dataframe tbody tr th {\n        vertical-align: top;\n    }\n\n    .dataframe thead th {\n        text-align: right;\n    }\n</style>\n<table border=\"1\" class=\"dataframe\">\n  <thead>\n    <tr style=\"text-align: right;\">\n      <th></th>\n      <th>kind</th>\n      <th>text</th>\n      <th>dandelion_results</th>\n      <th>dandelion_error</th>\n      <th>script_exception</th>\n    </tr>\n  </thead>\n  <tbody>\n    <tr>\n      <th>0</th>\n      <td>news_texts</td>\n      <td>Chicago church embraces ‘The Gospel According ...</td>\n      <td>{'time': 96, 'annotations': [{'start': 0, 'end...</td>\n      <td>NaN</td>\n      <td>NaN</td>\n    </tr>\n    <tr>\n      <th>1</th>\n      <td>news_texts</td>\n      <td>Opinion | Endorsements for Montgomery County C...</td>\n      <td>{'time': 92, 'annotations': [{'start': 27, 'en...</td>\n      <td>NaN</td>\n      <td>NaN</td>\n    </tr>\n    <tr>\n      <th>2</th>\n      <td>news_texts</td>\n      <td>Arch Manning, nephew of Peyton and Eli Manning...</td>\n      <td>{'time': 137, 'annotations': [{'start': 0, 'en...</td>\n      <td>NaN</td>\n      <td>NaN</td>\n    </tr>\n    <tr>\n      <th>3</th>\n      <td>news_texts</td>\n      <td>NBA draft winners and losers: Banchero, Smith ...</td>\n      <td>{'time': 119, 'annotations': [{'start': 30, 'e...</td>\n      <td>NaN</td>\n      <td>NaN</td>\n    </tr>\n    <tr>\n      <th>4</th>\n      <td>news_texts</td>\n      <td>Gaetz, Brooks, Biggs, Gohmert, Perry accused o...</td>\n      <td>{'time': 148, 'annotations': [{'start': 0, 'en...</td>\n      <td>NaN</td>\n      <td>NaN</td>\n    </tr>\n    <tr>\n      <th>...</th>\n      <td>...</td>\n      <td>...</td>\n      <td>...</td>\n      <td>...</td>\n      <td>...</td>\n    </tr>\n    <tr>\n      <th>6101</th>\n      <td>blog_texts</td>\n      <td>shing minerality on the palate and blossom sce...</td>\n      <td>NaN</td>\n      <td>{'error': True, 'status': 403, 'code': 'error....</td>\n      <td>NaN</td>\n    </tr>\n    <tr>\n      <th>6102</th>\n      <td>blog_texts</td>\n      <td>he QR code located on the site or on any 2020 ...</td>\n      <td>NaN</td>\n      <td>{'error': True, 'status': 403, 'code': 'error....</td>\n      <td>NaN</td>\n    </tr>\n    <tr>\n      <th>6103</th>\n      <td>blog_texts</td>\n      <td>baker’s chocolate with a hint of acidity.Fresh...</td>\n      <td>NaN</td>\n      <td>{'error': True, 'status': 403, 'code': 'error....</td>\n      <td>NaN</td>\n    </tr>\n    <tr>\n      <th>6104</th>\n      <td>blog_texts</td>\n      <td>egan with eco-friendly packaging — sustainable...</td>\n      <td>NaN</td>\n      <td>{'error': True, 'status': 403, 'code': 'error....</td>\n      <td>NaN</td>\n    </tr>\n    <tr>\n      <th>6105</th>\n      <td>blog_texts</td>\n      <td>suite of ultra-premium crafted cocktails avail...</td>\n      <td>NaN</td>\n      <td>{'error': True, 'status': 403, 'code': 'error....</td>\n      <td>NaN</td>\n    </tr>\n  </tbody>\n</table>\n<p>6106 rows × 5 columns</p>\n</div>"
     },
     "execution_count": 23,
     "metadata": {},
     "output_type": "execute_result"
    }
   ],
   "source": [
    "df1 = pd.read_csv(\"test_dataset_dandelion_1.csv\", sep=\"|\")\n",
    "df1"
   ],
   "metadata": {
    "collapsed": false,
    "pycharm": {
     "name": "#%%\n"
    }
   }
  },
  {
   "cell_type": "code",
   "execution_count": 24,
   "outputs": [
    {
     "data": {
      "text/plain": "         kind                                               text  \\\n0  news_texts  Bavarian castle hosting G-7 was Nazi vacation ...   \n1  news_texts  Warzone Season 2 Reloaded loadout tips: A guid...   \n2  news_texts  All-Met history - The Washington Post Accessib...   \n3  news_texts  'Elden Ring' and 'Lost Ark' tackle fantasy RPG...   \n4  news_texts  Outlook  http://www.washingtonpost.com/pb/outl...   \n5  news_texts  Bavarian castle hosting G-7 was Nazi vacation ...   \n6  news_texts  Allstate, Progressive drop Maine insurance fir...   \n7  news_texts  Mishael Morgan is 1st Black lead winner at Day...   \n8  blog_texts  Why Everything is Suddenly Getting More Expens...   \n\n   dandelion_results_x                                  dandelion_error_x  \\\n0                  NaN  {'error': True, 'status': 414, 'code': 'error....   \n1                  NaN  {'error': True, 'status': 414, 'code': 'error....   \n2                  NaN  {'error': True, 'status': 414, 'code': 'error....   \n3                  NaN  {'error': True, 'status': 414, 'code': 'error....   \n4                  NaN  {'error': True, 'status': 414, 'code': 'error....   \n5                  NaN  {'error': True, 'status': 414, 'code': 'error....   \n6                  NaN  {'error': True, 'status': 414, 'code': 'error....   \n7                  NaN  {'error': True, 'status': 414, 'code': 'error....   \n8                  NaN  {'error': True, 'status': 414, 'code': 'error....   \n\n   script_exception_x  dandelion_results_y  \\\n0                 NaN                  NaN   \n1                 NaN                  NaN   \n2                 NaN                  NaN   \n3                 NaN                  NaN   \n4                 NaN                  NaN   \n5                 NaN                  NaN   \n6                 NaN                  NaN   \n7                 NaN                  NaN   \n8                 NaN                  NaN   \n\n                                   dandelion_error_y  script_exception_y  \n0  {'error': True, 'status': 414, 'code': 'error....                 NaN  \n1  {'error': True, 'status': 414, 'code': 'error....                 NaN  \n2  {'error': True, 'status': 414, 'code': 'error....                 NaN  \n3  {'error': True, 'status': 414, 'code': 'error....                 NaN  \n4  {'error': True, 'status': 414, 'code': 'error....                 NaN  \n5  {'error': True, 'status': 414, 'code': 'error....                 NaN  \n6  {'error': True, 'status': 414, 'code': 'error....                 NaN  \n7  {'error': True, 'status': 414, 'code': 'error....                 NaN  \n8  {'error': True, 'status': 414, 'code': 'error....                 NaN  ",
      "text/html": "<div>\n<style scoped>\n    .dataframe tbody tr th:only-of-type {\n        vertical-align: middle;\n    }\n\n    .dataframe tbody tr th {\n        vertical-align: top;\n    }\n\n    .dataframe thead th {\n        text-align: right;\n    }\n</style>\n<table border=\"1\" class=\"dataframe\">\n  <thead>\n    <tr style=\"text-align: right;\">\n      <th></th>\n      <th>kind</th>\n      <th>text</th>\n      <th>dandelion_results_x</th>\n      <th>dandelion_error_x</th>\n      <th>script_exception_x</th>\n      <th>dandelion_results_y</th>\n      <th>dandelion_error_y</th>\n      <th>script_exception_y</th>\n    </tr>\n  </thead>\n  <tbody>\n    <tr>\n      <th>0</th>\n      <td>news_texts</td>\n      <td>Bavarian castle hosting G-7 was Nazi vacation ...</td>\n      <td>NaN</td>\n      <td>{'error': True, 'status': 414, 'code': 'error....</td>\n      <td>NaN</td>\n      <td>NaN</td>\n      <td>{'error': True, 'status': 414, 'code': 'error....</td>\n      <td>NaN</td>\n    </tr>\n    <tr>\n      <th>1</th>\n      <td>news_texts</td>\n      <td>Warzone Season 2 Reloaded loadout tips: A guid...</td>\n      <td>NaN</td>\n      <td>{'error': True, 'status': 414, 'code': 'error....</td>\n      <td>NaN</td>\n      <td>NaN</td>\n      <td>{'error': True, 'status': 414, 'code': 'error....</td>\n      <td>NaN</td>\n    </tr>\n    <tr>\n      <th>2</th>\n      <td>news_texts</td>\n      <td>All-Met history - The Washington Post Accessib...</td>\n      <td>NaN</td>\n      <td>{'error': True, 'status': 414, 'code': 'error....</td>\n      <td>NaN</td>\n      <td>NaN</td>\n      <td>{'error': True, 'status': 414, 'code': 'error....</td>\n      <td>NaN</td>\n    </tr>\n    <tr>\n      <th>3</th>\n      <td>news_texts</td>\n      <td>'Elden Ring' and 'Lost Ark' tackle fantasy RPG...</td>\n      <td>NaN</td>\n      <td>{'error': True, 'status': 414, 'code': 'error....</td>\n      <td>NaN</td>\n      <td>NaN</td>\n      <td>{'error': True, 'status': 414, 'code': 'error....</td>\n      <td>NaN</td>\n    </tr>\n    <tr>\n      <th>4</th>\n      <td>news_texts</td>\n      <td>Outlook  http://www.washingtonpost.com/pb/outl...</td>\n      <td>NaN</td>\n      <td>{'error': True, 'status': 414, 'code': 'error....</td>\n      <td>NaN</td>\n      <td>NaN</td>\n      <td>{'error': True, 'status': 414, 'code': 'error....</td>\n      <td>NaN</td>\n    </tr>\n    <tr>\n      <th>5</th>\n      <td>news_texts</td>\n      <td>Bavarian castle hosting G-7 was Nazi vacation ...</td>\n      <td>NaN</td>\n      <td>{'error': True, 'status': 414, 'code': 'error....</td>\n      <td>NaN</td>\n      <td>NaN</td>\n      <td>{'error': True, 'status': 414, 'code': 'error....</td>\n      <td>NaN</td>\n    </tr>\n    <tr>\n      <th>6</th>\n      <td>news_texts</td>\n      <td>Allstate, Progressive drop Maine insurance fir...</td>\n      <td>NaN</td>\n      <td>{'error': True, 'status': 414, 'code': 'error....</td>\n      <td>NaN</td>\n      <td>NaN</td>\n      <td>{'error': True, 'status': 414, 'code': 'error....</td>\n      <td>NaN</td>\n    </tr>\n    <tr>\n      <th>7</th>\n      <td>news_texts</td>\n      <td>Mishael Morgan is 1st Black lead winner at Day...</td>\n      <td>NaN</td>\n      <td>{'error': True, 'status': 414, 'code': 'error....</td>\n      <td>NaN</td>\n      <td>NaN</td>\n      <td>{'error': True, 'status': 414, 'code': 'error....</td>\n      <td>NaN</td>\n    </tr>\n    <tr>\n      <th>8</th>\n      <td>blog_texts</td>\n      <td>Why Everything is Suddenly Getting More Expens...</td>\n      <td>NaN</td>\n      <td>{'error': True, 'status': 414, 'code': 'error....</td>\n      <td>NaN</td>\n      <td>NaN</td>\n      <td>{'error': True, 'status': 414, 'code': 'error....</td>\n      <td>NaN</td>\n    </tr>\n  </tbody>\n</table>\n</div>"
     },
     "execution_count": 24,
     "metadata": {},
     "output_type": "execute_result"
    }
   ],
   "source": [
    "dandelion_results_df"
   ],
   "metadata": {
    "collapsed": false,
    "pycharm": {
     "name": "#%%\n"
    }
   }
  },
  {
   "cell_type": "code",
   "execution_count": 25,
   "outputs": [
    {
     "data": {
      "text/plain": "       kind_x                                             text_x  \\\n0  news_texts  Chicago church embraces ‘The Gospel According ...   \n1  news_texts  Opinion | Endorsements for Montgomery County C...   \n2  news_texts  Arch Manning, nephew of Peyton and Eli Manning...   \n3  news_texts  NBA draft winners and losers: Banchero, Smith ...   \n4  news_texts  Gaetz, Brooks, Biggs, Gohmert, Perry accused o...   \n5  news_texts  Opinion | Coming not soon: ‘Top Drone’ - The W...   \n6  news_texts  Submit an Op-Ed - The Washington Post         ...   \n7  news_texts  These Are the Gun Measures Advancing in US Con...   \n8  news_texts  Opinion | ‘Top Gun: Maverick’ has a female pil...   \n\n                                   dandelion_results dandelion_error  \\\n0  {'time': 96, 'annotations': [{'start': 0, 'end...             NaN   \n1  {'time': 92, 'annotations': [{'start': 27, 'en...             NaN   \n2  {'time': 137, 'annotations': [{'start': 0, 'en...             NaN   \n3  {'time': 119, 'annotations': [{'start': 30, 'e...             NaN   \n4  {'time': 148, 'annotations': [{'start': 0, 'en...             NaN   \n5  {'time': 101, 'annotations': [{'start': 41, 'e...             NaN   \n6  {'time': 18, 'annotations': [{'start': 10, 'en...             NaN   \n7  {'time': 91, 'annotations': [{'start': 40, 'en...             NaN   \n8  {'time': 121, 'annotations': [{'start': 11, 'e...             NaN   \n\n  script_exception      kind_y  \\\n0              NaN  news_texts   \n1              NaN  news_texts   \n2              NaN  news_texts   \n3              NaN  news_texts   \n4              NaN  news_texts   \n5              NaN  news_texts   \n6              NaN  news_texts   \n7              NaN  news_texts   \n8              NaN  blog_texts   \n\n                                              text_y  dandelion_results_x  \\\n0  Bavarian castle hosting G-7 was Nazi vacation ...                  NaN   \n1  Warzone Season 2 Reloaded loadout tips: A guid...                  NaN   \n2  All-Met history - The Washington Post Accessib...                  NaN   \n3  'Elden Ring' and 'Lost Ark' tackle fantasy RPG...                  NaN   \n4  Outlook  http://www.washingtonpost.com/pb/outl...                  NaN   \n5  Bavarian castle hosting G-7 was Nazi vacation ...                  NaN   \n6  Allstate, Progressive drop Maine insurance fir...                  NaN   \n7  Mishael Morgan is 1st Black lead winner at Day...                  NaN   \n8  Why Everything is Suddenly Getting More Expens...                  NaN   \n\n                                   dandelion_error_x  script_exception_x  \\\n0  {'error': True, 'status': 414, 'code': 'error....                 NaN   \n1  {'error': True, 'status': 414, 'code': 'error....                 NaN   \n2  {'error': True, 'status': 414, 'code': 'error....                 NaN   \n3  {'error': True, 'status': 414, 'code': 'error....                 NaN   \n4  {'error': True, 'status': 414, 'code': 'error....                 NaN   \n5  {'error': True, 'status': 414, 'code': 'error....                 NaN   \n6  {'error': True, 'status': 414, 'code': 'error....                 NaN   \n7  {'error': True, 'status': 414, 'code': 'error....                 NaN   \n8  {'error': True, 'status': 414, 'code': 'error....                 NaN   \n\n   dandelion_results_y                                  dandelion_error_y  \\\n0                  NaN  {'error': True, 'status': 414, 'code': 'error....   \n1                  NaN  {'error': True, 'status': 414, 'code': 'error....   \n2                  NaN  {'error': True, 'status': 414, 'code': 'error....   \n3                  NaN  {'error': True, 'status': 414, 'code': 'error....   \n4                  NaN  {'error': True, 'status': 414, 'code': 'error....   \n5                  NaN  {'error': True, 'status': 414, 'code': 'error....   \n6                  NaN  {'error': True, 'status': 414, 'code': 'error....   \n7                  NaN  {'error': True, 'status': 414, 'code': 'error....   \n8                  NaN  {'error': True, 'status': 414, 'code': 'error....   \n\n   script_exception_y  \n0                 NaN  \n1                 NaN  \n2                 NaN  \n3                 NaN  \n4                 NaN  \n5                 NaN  \n6                 NaN  \n7                 NaN  \n8                 NaN  ",
      "text/html": "<div>\n<style scoped>\n    .dataframe tbody tr th:only-of-type {\n        vertical-align: middle;\n    }\n\n    .dataframe tbody tr th {\n        vertical-align: top;\n    }\n\n    .dataframe thead th {\n        text-align: right;\n    }\n</style>\n<table border=\"1\" class=\"dataframe\">\n  <thead>\n    <tr style=\"text-align: right;\">\n      <th></th>\n      <th>kind_x</th>\n      <th>text_x</th>\n      <th>dandelion_results</th>\n      <th>dandelion_error</th>\n      <th>script_exception</th>\n      <th>kind_y</th>\n      <th>text_y</th>\n      <th>dandelion_results_x</th>\n      <th>dandelion_error_x</th>\n      <th>script_exception_x</th>\n      <th>dandelion_results_y</th>\n      <th>dandelion_error_y</th>\n      <th>script_exception_y</th>\n    </tr>\n  </thead>\n  <tbody>\n    <tr>\n      <th>0</th>\n      <td>news_texts</td>\n      <td>Chicago church embraces ‘The Gospel According ...</td>\n      <td>{'time': 96, 'annotations': [{'start': 0, 'end...</td>\n      <td>NaN</td>\n      <td>NaN</td>\n      <td>news_texts</td>\n      <td>Bavarian castle hosting G-7 was Nazi vacation ...</td>\n      <td>NaN</td>\n      <td>{'error': True, 'status': 414, 'code': 'error....</td>\n      <td>NaN</td>\n      <td>NaN</td>\n      <td>{'error': True, 'status': 414, 'code': 'error....</td>\n      <td>NaN</td>\n    </tr>\n    <tr>\n      <th>1</th>\n      <td>news_texts</td>\n      <td>Opinion | Endorsements for Montgomery County C...</td>\n      <td>{'time': 92, 'annotations': [{'start': 27, 'en...</td>\n      <td>NaN</td>\n      <td>NaN</td>\n      <td>news_texts</td>\n      <td>Warzone Season 2 Reloaded loadout tips: A guid...</td>\n      <td>NaN</td>\n      <td>{'error': True, 'status': 414, 'code': 'error....</td>\n      <td>NaN</td>\n      <td>NaN</td>\n      <td>{'error': True, 'status': 414, 'code': 'error....</td>\n      <td>NaN</td>\n    </tr>\n    <tr>\n      <th>2</th>\n      <td>news_texts</td>\n      <td>Arch Manning, nephew of Peyton and Eli Manning...</td>\n      <td>{'time': 137, 'annotations': [{'start': 0, 'en...</td>\n      <td>NaN</td>\n      <td>NaN</td>\n      <td>news_texts</td>\n      <td>All-Met history - The Washington Post Accessib...</td>\n      <td>NaN</td>\n      <td>{'error': True, 'status': 414, 'code': 'error....</td>\n      <td>NaN</td>\n      <td>NaN</td>\n      <td>{'error': True, 'status': 414, 'code': 'error....</td>\n      <td>NaN</td>\n    </tr>\n    <tr>\n      <th>3</th>\n      <td>news_texts</td>\n      <td>NBA draft winners and losers: Banchero, Smith ...</td>\n      <td>{'time': 119, 'annotations': [{'start': 30, 'e...</td>\n      <td>NaN</td>\n      <td>NaN</td>\n      <td>news_texts</td>\n      <td>'Elden Ring' and 'Lost Ark' tackle fantasy RPG...</td>\n      <td>NaN</td>\n      <td>{'error': True, 'status': 414, 'code': 'error....</td>\n      <td>NaN</td>\n      <td>NaN</td>\n      <td>{'error': True, 'status': 414, 'code': 'error....</td>\n      <td>NaN</td>\n    </tr>\n    <tr>\n      <th>4</th>\n      <td>news_texts</td>\n      <td>Gaetz, Brooks, Biggs, Gohmert, Perry accused o...</td>\n      <td>{'time': 148, 'annotations': [{'start': 0, 'en...</td>\n      <td>NaN</td>\n      <td>NaN</td>\n      <td>news_texts</td>\n      <td>Outlook  http://www.washingtonpost.com/pb/outl...</td>\n      <td>NaN</td>\n      <td>{'error': True, 'status': 414, 'code': 'error....</td>\n      <td>NaN</td>\n      <td>NaN</td>\n      <td>{'error': True, 'status': 414, 'code': 'error....</td>\n      <td>NaN</td>\n    </tr>\n    <tr>\n      <th>5</th>\n      <td>news_texts</td>\n      <td>Opinion | Coming not soon: ‘Top Drone’ - The W...</td>\n      <td>{'time': 101, 'annotations': [{'start': 41, 'e...</td>\n      <td>NaN</td>\n      <td>NaN</td>\n      <td>news_texts</td>\n      <td>Bavarian castle hosting G-7 was Nazi vacation ...</td>\n      <td>NaN</td>\n      <td>{'error': True, 'status': 414, 'code': 'error....</td>\n      <td>NaN</td>\n      <td>NaN</td>\n      <td>{'error': True, 'status': 414, 'code': 'error....</td>\n      <td>NaN</td>\n    </tr>\n    <tr>\n      <th>6</th>\n      <td>news_texts</td>\n      <td>Submit an Op-Ed - The Washington Post         ...</td>\n      <td>{'time': 18, 'annotations': [{'start': 10, 'en...</td>\n      <td>NaN</td>\n      <td>NaN</td>\n      <td>news_texts</td>\n      <td>Allstate, Progressive drop Maine insurance fir...</td>\n      <td>NaN</td>\n      <td>{'error': True, 'status': 414, 'code': 'error....</td>\n      <td>NaN</td>\n      <td>NaN</td>\n      <td>{'error': True, 'status': 414, 'code': 'error....</td>\n      <td>NaN</td>\n    </tr>\n    <tr>\n      <th>7</th>\n      <td>news_texts</td>\n      <td>These Are the Gun Measures Advancing in US Con...</td>\n      <td>{'time': 91, 'annotations': [{'start': 40, 'en...</td>\n      <td>NaN</td>\n      <td>NaN</td>\n      <td>news_texts</td>\n      <td>Mishael Morgan is 1st Black lead winner at Day...</td>\n      <td>NaN</td>\n      <td>{'error': True, 'status': 414, 'code': 'error....</td>\n      <td>NaN</td>\n      <td>NaN</td>\n      <td>{'error': True, 'status': 414, 'code': 'error....</td>\n      <td>NaN</td>\n    </tr>\n    <tr>\n      <th>8</th>\n      <td>news_texts</td>\n      <td>Opinion | ‘Top Gun: Maverick’ has a female pil...</td>\n      <td>{'time': 121, 'annotations': [{'start': 11, 'e...</td>\n      <td>NaN</td>\n      <td>NaN</td>\n      <td>blog_texts</td>\n      <td>Why Everything is Suddenly Getting More Expens...</td>\n      <td>NaN</td>\n      <td>{'error': True, 'status': 414, 'code': 'error....</td>\n      <td>NaN</td>\n      <td>NaN</td>\n      <td>{'error': True, 'status': 414, 'code': 'error....</td>\n      <td>NaN</td>\n    </tr>\n  </tbody>\n</table>\n</div>"
     },
     "execution_count": 25,
     "metadata": {},
     "output_type": "execute_result"
    }
   ],
   "source": [
    "pd.merge(df1, dandelion_results_df, left_index=True, right_index=True)"
   ],
   "metadata": {
    "collapsed": false,
    "pycharm": {
     "name": "#%%\n"
    }
   }
  },
  {
   "cell_type": "code",
   "execution_count": 25,
   "outputs": [],
   "source": [],
   "metadata": {
    "collapsed": false,
    "pycharm": {
     "name": "#%%\n"
    }
   }
  }
 ],
 "metadata": {
  "kernelspec": {
   "display_name": "Python 3",
   "language": "python",
   "name": "python3"
  },
  "language_info": {
   "codemirror_mode": {
    "name": "ipython",
    "version": 2
   },
   "file_extension": ".py",
   "mimetype": "text/x-python",
   "name": "python",
   "nbconvert_exporter": "python",
   "pygments_lexer": "ipython2",
   "version": "2.7.6"
  }
 },
 "nbformat": 4,
 "nbformat_minor": 0
}