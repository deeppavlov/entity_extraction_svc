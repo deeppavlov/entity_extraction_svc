{
 "cells": [
  {
   "cell_type": "code",
   "execution_count": 16,
   "outputs": [],
   "source": [
    "import pandas as pd\n",
    "import requests\n",
    "from tqdm.notebook import tqdm\n",
    "\n",
    "import dandelion"
   ],
   "metadata": {
    "collapsed": false,
    "pycharm": {
     "name": "#%%\n"
    }
   }
  },
  {
   "cell_type": "code",
   "execution_count": 2,
   "outputs": [
    {
     "name": "stdout",
     "output_type": "stream",
     "text": [
      "--2022-06-28 12:58:57--  https://files.deeppavlov.ai/deeppavlov_data/entity_linking/test_dataset.pickle\r\n",
      "Resolving files.deeppavlov.ai (files.deeppavlov.ai)... 178.63.27.41\r\n",
      "Connecting to files.deeppavlov.ai (files.deeppavlov.ai)|178.63.27.41|:443... connected.\r\n",
      "HTTP request sent, awaiting response... 200 OK\r\n",
      "Length: 17668715 (17M) [application/octet-stream]\r\n",
      "Saving to: ‘test_dataset.pickle’\r\n",
      "\r\n",
      "test_dataset.pickle 100%[===================>]  16.85M  9.37MB/s    in 1.8s    \r\n",
      "\r\n",
      "2022-06-28 12:58:59 (9.37 MB/s) - ‘test_dataset.pickle’ saved [17668715/17668715]\r\n",
      "\r\n"
     ]
    }
   ],
   "source": [
    "!wget https://files.deeppavlov.ai/deeppavlov_data/entity_linking/test_dataset.pickle"
   ],
   "metadata": {
    "collapsed": false,
    "pycharm": {
     "name": "#%%\n"
    }
   }
  },
  {
   "cell_type": "markdown",
   "source": [
    "## Download pickled dataset and prepare it for scoring"
   ],
   "metadata": {
    "collapsed": false,
    "pycharm": {
     "name": "#%% md\n"
    }
   }
  },
  {
   "cell_type": "code",
   "execution_count": 3,
   "outputs": [],
   "source": [
    "import pickle\n",
    "\n",
    "with open(\"test_dataset.pickle\", \"rb\") as dataset_f:\n",
    "    dataset = pickle.load(dataset_f)\n",
    "\n",
    "full_dataset = []\n",
    "for kind, value_list in dataset.items():\n",
    "    data_rows = [{\"kind\": kind, \"full_text\": value} for value in value_list]\n",
    "    full_dataset += data_rows\n",
    "\n",
    "dataset_df = pd.DataFrame(full_dataset)\n",
    "slice_size = 3500\n",
    "max_text_len = dataset_df[\"full_text\"].str.len().max()\n",
    "max_slices = max_text_len // slice_size\n",
    "\n",
    "for s_idx in range(max_slices):\n",
    "    start = s_idx * slice_size\n",
    "    stop = start + slice_size\n",
    "    dataset_df[f\"text_{s_idx}\"] = dataset_df[\"full_text\"].str.slice(start, stop)\n",
    "\n",
    "dataset_df = dataset_df.melt(id_vars=[\"kind\", \"full_text\"], value_name=\"text\")\n",
    "dataset_df.replace(\"\", float(\"NaN\"), inplace=True)\n",
    "dataset_df.dropna(subset=[\"text\"], inplace=True)\n",
    "dataset_df.reset_index(inplace=True)\n",
    "dataset_df[[\"kind\", \"text\"]].to_csv(\"test_dataset.csv\", sep=\"|\", index=False)"
   ],
   "metadata": {
    "collapsed": false,
    "pycharm": {
     "name": "#%%\n"
    }
   }
  },
  {
   "cell_type": "code",
   "execution_count": 4,
   "outputs": [],
   "source": [
    "!rm test_dataset.pickle"
   ],
   "metadata": {
    "collapsed": false,
    "pycharm": {
     "name": "#%%\n"
    }
   }
  },
  {
   "cell_type": "code",
   "execution_count": 5,
   "outputs": [
    {
     "data": {
      "text/plain": "            kind                                               text\n0     news_texts  Chicago church embraces ‘The Gospel According ...\n1     news_texts  Opinion | Endorsements for Montgomery County C...\n2     news_texts  Arch Manning, nephew of Peyton and Eli Manning...\n3     news_texts  NBA draft winners and losers: Banchero, Smith ...\n4     news_texts  Gaetz, Brooks, Biggs, Gohmert, Perry accused o...\n...          ...                                                ...\n6101  blog_texts  shing minerality on the palate and blossom sce...\n6102  blog_texts  he QR code located on the site or on any 2020 ...\n6103  blog_texts  baker’s chocolate with a hint of acidity.Fresh...\n6104  blog_texts  egan with eco-friendly packaging — sustainable...\n6105  blog_texts  suite of ultra-premium crafted cocktails avail...\n\n[6106 rows x 2 columns]",
      "text/html": "<div>\n<style scoped>\n    .dataframe tbody tr th:only-of-type {\n        vertical-align: middle;\n    }\n\n    .dataframe tbody tr th {\n        vertical-align: top;\n    }\n\n    .dataframe thead th {\n        text-align: right;\n    }\n</style>\n<table border=\"1\" class=\"dataframe\">\n  <thead>\n    <tr style=\"text-align: right;\">\n      <th></th>\n      <th>kind</th>\n      <th>text</th>\n    </tr>\n  </thead>\n  <tbody>\n    <tr>\n      <th>0</th>\n      <td>news_texts</td>\n      <td>Chicago church embraces ‘The Gospel According ...</td>\n    </tr>\n    <tr>\n      <th>1</th>\n      <td>news_texts</td>\n      <td>Opinion | Endorsements for Montgomery County C...</td>\n    </tr>\n    <tr>\n      <th>2</th>\n      <td>news_texts</td>\n      <td>Arch Manning, nephew of Peyton and Eli Manning...</td>\n    </tr>\n    <tr>\n      <th>3</th>\n      <td>news_texts</td>\n      <td>NBA draft winners and losers: Banchero, Smith ...</td>\n    </tr>\n    <tr>\n      <th>4</th>\n      <td>news_texts</td>\n      <td>Gaetz, Brooks, Biggs, Gohmert, Perry accused o...</td>\n    </tr>\n    <tr>\n      <th>...</th>\n      <td>...</td>\n      <td>...</td>\n    </tr>\n    <tr>\n      <th>6101</th>\n      <td>blog_texts</td>\n      <td>shing minerality on the palate and blossom sce...</td>\n    </tr>\n    <tr>\n      <th>6102</th>\n      <td>blog_texts</td>\n      <td>he QR code located on the site or on any 2020 ...</td>\n    </tr>\n    <tr>\n      <th>6103</th>\n      <td>blog_texts</td>\n      <td>baker’s chocolate with a hint of acidity.Fresh...</td>\n    </tr>\n    <tr>\n      <th>6104</th>\n      <td>blog_texts</td>\n      <td>egan with eco-friendly packaging — sustainable...</td>\n    </tr>\n    <tr>\n      <th>6105</th>\n      <td>blog_texts</td>\n      <td>suite of ultra-premium crafted cocktails avail...</td>\n    </tr>\n  </tbody>\n</table>\n<p>6106 rows × 2 columns</p>\n</div>"
     },
     "execution_count": 5,
     "metadata": {},
     "output_type": "execute_result"
    }
   ],
   "source": [
    "dataset_df = pd.read_csv(\"test_dataset.csv\", sep=\"|\")\n",
    "dataset_df"
   ],
   "metadata": {
    "collapsed": false,
    "pycharm": {
     "name": "#%%\n"
    }
   }
  },
  {
   "cell_type": "code",
   "execution_count": 6,
   "outputs": [],
   "source": [
    "def run_dandelion(df, fresh_start=True):\n",
    "    results = []\n",
    "\n",
    "    with requests.Session() as sess:\n",
    "        for idx, row in tqdm(df.iterrows(), total=len(df)):\n",
    "            if not pd.isna(row.get(\"dandelion_results\", float(\"NaN\"))):\n",
    "                continue\n",
    "\n",
    "            data = error = exception = float(\"NaN\")\n",
    "            try:\n",
    "                result = dandelion.extract_dandelion(sess, row[\"text\"])\n",
    "                if result.error:\n",
    "                    error = result.error\n",
    "                    if error.get(\"code\") in [\"error.authenticationError\", \"error.forbiddenError\"]:\n",
    "                        print(\"Exceeded API token limit, come back tomorrow!\")\n",
    "                        break\n",
    "                else:\n",
    "                    data = result.data\n",
    "            except Exception as e:\n",
    "                exception = f\"{type(e)}: {e}\"\n",
    "            results.append({\"index\": idx, \"dandelion_results\": data, \"dandelion_error\": error, \"dandelion_script_exception\": exception})\n",
    "\n",
    "    if results:\n",
    "        results_df = pd.DataFrame(results)\n",
    "        results_df.set_index(\"index\", inplace=True)\n",
    "        if fresh_start:\n",
    "            results_df = pd.merge(df, results_df, left_index=True, right_index=True, how=\"left\")\n",
    "        else:\n",
    "            df.update(results_df, overwrite=False)\n",
    "            results_df = df\n",
    "\n",
    "        results_df.to_csv(\"test_dataset_dandelion.csv\", sep=\"|\", index=False)\n",
    "    else:\n",
    "        results_df = df\n",
    "\n",
    "    return results_df\n"
   ],
   "metadata": {
    "collapsed": false,
    "pycharm": {
     "name": "#%%\n"
    }
   }
  },
  {
   "cell_type": "markdown",
   "source": [
    "## Fresh run\n",
    "Execute this cell only if you don't have a test_dataset_dandelion.csv yet"
   ],
   "metadata": {
    "collapsed": false,
    "pycharm": {
     "name": "#%% md\n"
    }
   }
  },
  {
   "cell_type": "code",
   "execution_count": 9,
   "outputs": [
    {
     "name": "stderr",
     "output_type": "stream",
     "text": [
      "  0%|          | 0/6106 [00:00<?, ?it/s]/home/mtalimanchuk/.virtualenvs/entity_extraction_svc/lib/python3.7/site-packages/cryptography/hazmat/backends/openssl/x509.py:17: CryptographyDeprecationWarning: This version of cryptography contains a temporary pyOpenSSL fallback path. Upgrade pyOpenSSL now.\n",
      "  utils.DeprecatedIn35,\n",
      " 18%|█▊        | 1088/6106 [04:26<15:29,  5.40it/s]  "
     ]
    },
    {
     "name": "stdout",
     "output_type": "stream",
     "text": [
      "Exceeded API token limit, come back tomorrow!\n"
     ]
    },
    {
     "data": {
      "text/plain": "            kind                                               text  \\\n0     news_texts  Chicago church embraces ‘The Gospel According ...   \n1     news_texts  Opinion | Endorsements for Montgomery County C...   \n2     news_texts  Arch Manning, nephew of Peyton and Eli Manning...   \n3     news_texts  NBA draft winners and losers: Banchero, Smith ...   \n4     news_texts  Gaetz, Brooks, Biggs, Gohmert, Perry accused o...   \n...          ...                                                ...   \n6101  blog_texts  shing minerality on the palate and blossom sce...   \n6102  blog_texts  he QR code located on the site or on any 2020 ...   \n6103  blog_texts  baker’s chocolate with a hint of acidity.Fresh...   \n6104  blog_texts  egan with eco-friendly packaging — sustainable...   \n6105  blog_texts  suite of ultra-premium crafted cocktails avail...   \n\n                                      dandelion_results dandelion_error  \\\n0     {'time': 100, 'annotations': [{'start': 0, 'en...             NaN   \n1     {'time': 92, 'annotations': [{'start': 27, 'en...             NaN   \n2     {'time': 138, 'annotations': [{'start': 0, 'en...             NaN   \n3     {'time': 119, 'annotations': [{'start': 30, 'e...             NaN   \n4     {'time': 157, 'annotations': [{'start': 0, 'en...             NaN   \n...                                                 ...             ...   \n6101                                                NaN             NaN   \n6102                                                NaN             NaN   \n6103                                                NaN             NaN   \n6104                                                NaN             NaN   \n6105                                                NaN             NaN   \n\n     script_exception  \n0                 NaN  \n1                 NaN  \n2                 NaN  \n3                 NaN  \n4                 NaN  \n...               ...  \n6101              NaN  \n6102              NaN  \n6103              NaN  \n6104              NaN  \n6105              NaN  \n\n[6106 rows x 5 columns]",
      "text/html": "<div>\n<style scoped>\n    .dataframe tbody tr th:only-of-type {\n        vertical-align: middle;\n    }\n\n    .dataframe tbody tr th {\n        vertical-align: top;\n    }\n\n    .dataframe thead th {\n        text-align: right;\n    }\n</style>\n<table border=\"1\" class=\"dataframe\">\n  <thead>\n    <tr style=\"text-align: right;\">\n      <th></th>\n      <th>kind</th>\n      <th>text</th>\n      <th>dandelion_results</th>\n      <th>dandelion_error</th>\n      <th>script_exception</th>\n    </tr>\n  </thead>\n  <tbody>\n    <tr>\n      <th>0</th>\n      <td>news_texts</td>\n      <td>Chicago church embraces ‘The Gospel According ...</td>\n      <td>{'time': 100, 'annotations': [{'start': 0, 'en...</td>\n      <td>NaN</td>\n      <td>NaN</td>\n    </tr>\n    <tr>\n      <th>1</th>\n      <td>news_texts</td>\n      <td>Opinion | Endorsements for Montgomery County C...</td>\n      <td>{'time': 92, 'annotations': [{'start': 27, 'en...</td>\n      <td>NaN</td>\n      <td>NaN</td>\n    </tr>\n    <tr>\n      <th>2</th>\n      <td>news_texts</td>\n      <td>Arch Manning, nephew of Peyton and Eli Manning...</td>\n      <td>{'time': 138, 'annotations': [{'start': 0, 'en...</td>\n      <td>NaN</td>\n      <td>NaN</td>\n    </tr>\n    <tr>\n      <th>3</th>\n      <td>news_texts</td>\n      <td>NBA draft winners and losers: Banchero, Smith ...</td>\n      <td>{'time': 119, 'annotations': [{'start': 30, 'e...</td>\n      <td>NaN</td>\n      <td>NaN</td>\n    </tr>\n    <tr>\n      <th>4</th>\n      <td>news_texts</td>\n      <td>Gaetz, Brooks, Biggs, Gohmert, Perry accused o...</td>\n      <td>{'time': 157, 'annotations': [{'start': 0, 'en...</td>\n      <td>NaN</td>\n      <td>NaN</td>\n    </tr>\n    <tr>\n      <th>...</th>\n      <td>...</td>\n      <td>...</td>\n      <td>...</td>\n      <td>...</td>\n      <td>...</td>\n    </tr>\n    <tr>\n      <th>6101</th>\n      <td>blog_texts</td>\n      <td>shing minerality on the palate and blossom sce...</td>\n      <td>NaN</td>\n      <td>NaN</td>\n      <td>NaN</td>\n    </tr>\n    <tr>\n      <th>6102</th>\n      <td>blog_texts</td>\n      <td>he QR code located on the site or on any 2020 ...</td>\n      <td>NaN</td>\n      <td>NaN</td>\n      <td>NaN</td>\n    </tr>\n    <tr>\n      <th>6103</th>\n      <td>blog_texts</td>\n      <td>baker’s chocolate with a hint of acidity.Fresh...</td>\n      <td>NaN</td>\n      <td>NaN</td>\n      <td>NaN</td>\n    </tr>\n    <tr>\n      <th>6104</th>\n      <td>blog_texts</td>\n      <td>egan with eco-friendly packaging — sustainable...</td>\n      <td>NaN</td>\n      <td>NaN</td>\n      <td>NaN</td>\n    </tr>\n    <tr>\n      <th>6105</th>\n      <td>blog_texts</td>\n      <td>suite of ultra-premium crafted cocktails avail...</td>\n      <td>NaN</td>\n      <td>NaN</td>\n      <td>NaN</td>\n    </tr>\n  </tbody>\n</table>\n<p>6106 rows × 5 columns</p>\n</div>"
     },
     "execution_count": 9,
     "metadata": {},
     "output_type": "execute_result"
    }
   ],
   "source": [
    "# Fresh run\n",
    "dandelion_results_df = run_dandelion(dataset_df, fresh_start=True)\n",
    "dandelion_results_df"
   ],
   "metadata": {
    "collapsed": false,
    "pycharm": {
     "name": "#%%\n"
    }
   }
  },
  {
   "cell_type": "markdown",
   "source": [
    "## Consecutive runs\n",
    "Run this if you already have a test_dataset_dandelion.csv from previous runs"
   ],
   "metadata": {
    "collapsed": false,
    "pycharm": {
     "name": "#%% md\n"
    }
   }
  },
  {
   "cell_type": "code",
   "execution_count": 7,
   "outputs": [
    {
     "name": "stderr",
     "output_type": "stream",
     "text": [
      "  0%|          | 0/6106 [00:00<?, ?it/s]/home/mtalimanchuk/.virtualenvs/entity_extraction_svc/lib/python3.7/site-packages/cryptography/hazmat/backends/openssl/x509.py:17: CryptographyDeprecationWarning: This version of cryptography contains a temporary pyOpenSSL fallback path. Upgrade pyOpenSSL now.\n",
      "  utils.DeprecatedIn35,\n",
      " 38%|███▊      | 2319/6106 [03:35<10:30,  6.01it/s]  "
     ]
    },
    {
     "name": "stdout",
     "output_type": "stream",
     "text": [
      "Exceeded API token limit, come back tomorrow!\n"
     ]
    },
    {
     "data": {
      "text/plain": "            kind                                               text  \\\n0     news_texts  Chicago church embraces ‘The Gospel According ...   \n1     news_texts  Opinion | Endorsements for Montgomery County C...   \n2     news_texts  Arch Manning, nephew of Peyton and Eli Manning...   \n3     news_texts  NBA draft winners and losers: Banchero, Smith ...   \n4     news_texts  Gaetz, Brooks, Biggs, Gohmert, Perry accused o...   \n...          ...                                                ...   \n6101  blog_texts  shing minerality on the palate and blossom sce...   \n6102  blog_texts  he QR code located on the site or on any 2020 ...   \n6103  blog_texts  baker’s chocolate with a hint of acidity.Fresh...   \n6104  blog_texts  egan with eco-friendly packaging — sustainable...   \n6105  blog_texts  suite of ultra-premium crafted cocktails avail...   \n\n                                      dandelion_results dandelion_error  \\\n0     {'time': 100, 'annotations': [{'start': 0, 'en...             NaN   \n1     {'time': 92, 'annotations': [{'start': 27, 'en...             NaN   \n2     {'time': 138, 'annotations': [{'start': 0, 'en...             NaN   \n3     {'time': 119, 'annotations': [{'start': 30, 'e...             NaN   \n4     {'time': 157, 'annotations': [{'start': 0, 'en...             NaN   \n...                                                 ...             ...   \n6101                                                NaN             NaN   \n6102                                                NaN             NaN   \n6103                                                NaN             NaN   \n6104                                                NaN             NaN   \n6105                                                NaN             NaN   \n\n     script_exception  \n0                 NaN  \n1                 NaN  \n2                 NaN  \n3                 NaN  \n4                 NaN  \n...               ...  \n6101              NaN  \n6102              NaN  \n6103              NaN  \n6104              NaN  \n6105              NaN  \n\n[6106 rows x 5 columns]",
      "text/html": "<div>\n<style scoped>\n    .dataframe tbody tr th:only-of-type {\n        vertical-align: middle;\n    }\n\n    .dataframe tbody tr th {\n        vertical-align: top;\n    }\n\n    .dataframe thead th {\n        text-align: right;\n    }\n</style>\n<table border=\"1\" class=\"dataframe\">\n  <thead>\n    <tr style=\"text-align: right;\">\n      <th></th>\n      <th>kind</th>\n      <th>text</th>\n      <th>dandelion_results</th>\n      <th>dandelion_error</th>\n      <th>script_exception</th>\n    </tr>\n  </thead>\n  <tbody>\n    <tr>\n      <th>0</th>\n      <td>news_texts</td>\n      <td>Chicago church embraces ‘The Gospel According ...</td>\n      <td>{'time': 100, 'annotations': [{'start': 0, 'en...</td>\n      <td>NaN</td>\n      <td>NaN</td>\n    </tr>\n    <tr>\n      <th>1</th>\n      <td>news_texts</td>\n      <td>Opinion | Endorsements for Montgomery County C...</td>\n      <td>{'time': 92, 'annotations': [{'start': 27, 'en...</td>\n      <td>NaN</td>\n      <td>NaN</td>\n    </tr>\n    <tr>\n      <th>2</th>\n      <td>news_texts</td>\n      <td>Arch Manning, nephew of Peyton and Eli Manning...</td>\n      <td>{'time': 138, 'annotations': [{'start': 0, 'en...</td>\n      <td>NaN</td>\n      <td>NaN</td>\n    </tr>\n    <tr>\n      <th>3</th>\n      <td>news_texts</td>\n      <td>NBA draft winners and losers: Banchero, Smith ...</td>\n      <td>{'time': 119, 'annotations': [{'start': 30, 'e...</td>\n      <td>NaN</td>\n      <td>NaN</td>\n    </tr>\n    <tr>\n      <th>4</th>\n      <td>news_texts</td>\n      <td>Gaetz, Brooks, Biggs, Gohmert, Perry accused o...</td>\n      <td>{'time': 157, 'annotations': [{'start': 0, 'en...</td>\n      <td>NaN</td>\n      <td>NaN</td>\n    </tr>\n    <tr>\n      <th>...</th>\n      <td>...</td>\n      <td>...</td>\n      <td>...</td>\n      <td>...</td>\n      <td>...</td>\n    </tr>\n    <tr>\n      <th>6101</th>\n      <td>blog_texts</td>\n      <td>shing minerality on the palate and blossom sce...</td>\n      <td>NaN</td>\n      <td>NaN</td>\n      <td>NaN</td>\n    </tr>\n    <tr>\n      <th>6102</th>\n      <td>blog_texts</td>\n      <td>he QR code located on the site or on any 2020 ...</td>\n      <td>NaN</td>\n      <td>NaN</td>\n      <td>NaN</td>\n    </tr>\n    <tr>\n      <th>6103</th>\n      <td>blog_texts</td>\n      <td>baker’s chocolate with a hint of acidity.Fresh...</td>\n      <td>NaN</td>\n      <td>NaN</td>\n      <td>NaN</td>\n    </tr>\n    <tr>\n      <th>6104</th>\n      <td>blog_texts</td>\n      <td>egan with eco-friendly packaging — sustainable...</td>\n      <td>NaN</td>\n      <td>NaN</td>\n      <td>NaN</td>\n    </tr>\n    <tr>\n      <th>6105</th>\n      <td>blog_texts</td>\n      <td>suite of ultra-premium crafted cocktails avail...</td>\n      <td>NaN</td>\n      <td>NaN</td>\n      <td>NaN</td>\n    </tr>\n  </tbody>\n</table>\n<p>6106 rows × 5 columns</p>\n</div>"
     },
     "execution_count": 7,
     "metadata": {},
     "output_type": "execute_result"
    }
   ],
   "source": [
    "# Run again using dandelion_results_df to update missing results\n",
    "dandelion_results_df = pd.read_csv(\"test_dataset_dandelion.csv\", sep=\"|\")\n",
    "dandelion_results_df = run_dandelion(dandelion_results_df, fresh_start=False)\n",
    "dandelion_results_df"
   ],
   "metadata": {
    "collapsed": false,
    "pycharm": {
     "name": "#%%\n"
    }
   }
  },
  {
   "cell_type": "code",
   "execution_count": 33,
   "outputs": [],
   "source": [
    "def run_deeppavlov(df, url, slice_start=None, slice_stop=None):\n",
    "    df_slice = df[slice_start:slice_stop]\n",
    "    results = []\n",
    "\n",
    "    with requests.Session() as sess:\n",
    "        for idx, row in tqdm(df_slice.iterrows(), total=len(df_slice)):\n",
    "            data = error = exception = float(\"NaN\")\n",
    "            try:\n",
    "                response = sess.post(url, json={\"text\": row[\"text\"]})\n",
    "                result = response.json()\n",
    "                if result.get(\"detail\"):\n",
    "                    error = result\n",
    "                else:\n",
    "                    data = result\n",
    "            except Exception as e:\n",
    "                exception = f\"{type(e)}: {e}\"\n",
    "            results.append({\"index\": idx, \"dp_results\": data, \"dp_error\": error, \"dp_script_exception\": exception})\n",
    "\n",
    "    # if results:\n",
    "    results_df = pd.DataFrame(results)\n",
    "    results_df.set_index(\"index\", inplace=True)\n",
    "    results_df = pd.merge(df, results_df, left_index=True, right_index=True, how=\"left\")\n",
    "\n",
    "    results_df.to_csv(\"test_dataset_dp.csv\", sep=\"|\", index=False)\n",
    "    # else:\n",
    "    #     results_df = df\n",
    "\n",
    "    return results_df"
   ],
   "metadata": {
    "collapsed": false,
    "pycharm": {
     "name": "#%%\n"
    }
   }
  },
  {
   "cell_type": "code",
   "execution_count": 34,
   "outputs": [
    {
     "data": {
      "text/plain": "HBox(children=(FloatProgress(value=0.0, max=2000.0), HTML(value='')))",
      "application/vnd.jupyter.widget-view+json": {
       "version_major": 2,
       "version_minor": 0,
       "model_id": "20f3a09499e84907a1847118df616295"
      }
     },
     "metadata": {},
     "output_type": "display_data"
    },
    {
     "name": "stdout",
     "output_type": "stream",
     "text": [
      "\n"
     ]
    },
    {
     "data": {
      "text/plain": "            kind                                               text  \\\n0     news_texts  Chicago church embraces ‘The Gospel According ...   \n1     news_texts  Opinion | Endorsements for Montgomery County C...   \n2     news_texts  Arch Manning, nephew of Peyton and Eli Manning...   \n3     news_texts  NBA draft winners and losers: Banchero, Smith ...   \n4     news_texts  Gaetz, Brooks, Biggs, Gohmert, Perry accused o...   \n...          ...                                                ...   \n6101  blog_texts  shing minerality on the palate and blossom sce...   \n6102  blog_texts  he QR code located on the site or on any 2020 ...   \n6103  blog_texts  baker’s chocolate with a hint of acidity.Fresh...   \n6104  blog_texts  egan with eco-friendly packaging — sustainable...   \n6105  blog_texts  suite of ultra-premium crafted cocktails avail...   \n\n                                             dp_results  dp_error  \\\n0                                                   NaN       NaN   \n1     {'annotations': [{'start': 27, 'end': 52, 'spo...       NaN   \n2     {'annotations': [{'start': 0, 'end': 12, 'spot...       NaN   \n3     {'annotations': [{'start': 0, 'end': 3, 'spot'...       NaN   \n4     {'annotations': [{'start': 56, 'end': 61, 'spo...       NaN   \n...                                                 ...       ...   \n6101                                                NaN       NaN   \n6102                                                NaN       NaN   \n6103                                                NaN       NaN   \n6104                                                NaN       NaN   \n6105                                                NaN       NaN   \n\n                                       script_exception  \n0     <class 'json.decoder.JSONDecodeError'>: Expect...  \n1                                                   NaN  \n2                                                   NaN  \n3                                                   NaN  \n4                                                   NaN  \n...                                                 ...  \n6101                                                NaN  \n6102                                                NaN  \n6103                                                NaN  \n6104                                                NaN  \n6105                                                NaN  \n\n[6106 rows x 5 columns]",
      "text/html": "<div>\n<style scoped>\n    .dataframe tbody tr th:only-of-type {\n        vertical-align: middle;\n    }\n\n    .dataframe tbody tr th {\n        vertical-align: top;\n    }\n\n    .dataframe thead th {\n        text-align: right;\n    }\n</style>\n<table border=\"1\" class=\"dataframe\">\n  <thead>\n    <tr style=\"text-align: right;\">\n      <th></th>\n      <th>kind</th>\n      <th>text</th>\n      <th>dp_results</th>\n      <th>dp_error</th>\n      <th>script_exception</th>\n    </tr>\n  </thead>\n  <tbody>\n    <tr>\n      <th>0</th>\n      <td>news_texts</td>\n      <td>Chicago church embraces ‘The Gospel According ...</td>\n      <td>NaN</td>\n      <td>NaN</td>\n      <td>&lt;class 'json.decoder.JSONDecodeError'&gt;: Expect...</td>\n    </tr>\n    <tr>\n      <th>1</th>\n      <td>news_texts</td>\n      <td>Opinion | Endorsements for Montgomery County C...</td>\n      <td>{'annotations': [{'start': 27, 'end': 52, 'spo...</td>\n      <td>NaN</td>\n      <td>NaN</td>\n    </tr>\n    <tr>\n      <th>2</th>\n      <td>news_texts</td>\n      <td>Arch Manning, nephew of Peyton and Eli Manning...</td>\n      <td>{'annotations': [{'start': 0, 'end': 12, 'spot...</td>\n      <td>NaN</td>\n      <td>NaN</td>\n    </tr>\n    <tr>\n      <th>3</th>\n      <td>news_texts</td>\n      <td>NBA draft winners and losers: Banchero, Smith ...</td>\n      <td>{'annotations': [{'start': 0, 'end': 3, 'spot'...</td>\n      <td>NaN</td>\n      <td>NaN</td>\n    </tr>\n    <tr>\n      <th>4</th>\n      <td>news_texts</td>\n      <td>Gaetz, Brooks, Biggs, Gohmert, Perry accused o...</td>\n      <td>{'annotations': [{'start': 56, 'end': 61, 'spo...</td>\n      <td>NaN</td>\n      <td>NaN</td>\n    </tr>\n    <tr>\n      <th>...</th>\n      <td>...</td>\n      <td>...</td>\n      <td>...</td>\n      <td>...</td>\n      <td>...</td>\n    </tr>\n    <tr>\n      <th>6101</th>\n      <td>blog_texts</td>\n      <td>shing minerality on the palate and blossom sce...</td>\n      <td>NaN</td>\n      <td>NaN</td>\n      <td>NaN</td>\n    </tr>\n    <tr>\n      <th>6102</th>\n      <td>blog_texts</td>\n      <td>he QR code located on the site or on any 2020 ...</td>\n      <td>NaN</td>\n      <td>NaN</td>\n      <td>NaN</td>\n    </tr>\n    <tr>\n      <th>6103</th>\n      <td>blog_texts</td>\n      <td>baker’s chocolate with a hint of acidity.Fresh...</td>\n      <td>NaN</td>\n      <td>NaN</td>\n      <td>NaN</td>\n    </tr>\n    <tr>\n      <th>6104</th>\n      <td>blog_texts</td>\n      <td>egan with eco-friendly packaging — sustainable...</td>\n      <td>NaN</td>\n      <td>NaN</td>\n      <td>NaN</td>\n    </tr>\n    <tr>\n      <th>6105</th>\n      <td>blog_texts</td>\n      <td>suite of ultra-premium crafted cocktails avail...</td>\n      <td>NaN</td>\n      <td>NaN</td>\n      <td>NaN</td>\n    </tr>\n  </tbody>\n</table>\n<p>6106 rows × 5 columns</p>\n</div>"
     },
     "execution_count": 34,
     "metadata": {},
     "output_type": "execute_result"
    }
   ],
   "source": [
    "dp_results_df = run_deeppavlov(dataset_df, \"http://10.11.1.6:9999/\", 0, 2000)\n",
    "dp_results_df"
   ],
   "metadata": {
    "collapsed": false,
    "pycharm": {
     "name": "#%%\n"
    }
   }
  },
  {
   "cell_type": "code",
   "execution_count": 38,
   "outputs": [
    {
     "data": {
      "text/plain": "          kind_x                                             text_x  \\\n0     news_texts  Chicago church embraces ‘The Gospel According ...   \n1     news_texts  Opinion | Endorsements for Montgomery County C...   \n2     news_texts  Arch Manning, nephew of Peyton and Eli Manning...   \n3     news_texts  NBA draft winners and losers: Banchero, Smith ...   \n4     news_texts  Gaetz, Brooks, Biggs, Gohmert, Perry accused o...   \n...          ...                                                ...   \n6101  blog_texts  shing minerality on the palate and blossom sce...   \n6102  blog_texts  he QR code located on the site or on any 2020 ...   \n6103  blog_texts  baker’s chocolate with a hint of acidity.Fresh...   \n6104  blog_texts  egan with eco-friendly packaging — sustainable...   \n6105  blog_texts  suite of ultra-premium crafted cocktails avail...   \n\n                                      dandelion_results dandelion_error  \\\n0     {'time': 100, 'annotations': [{'start': 0, 'en...             NaN   \n1     {'time': 92, 'annotations': [{'start': 27, 'en...             NaN   \n2     {'time': 138, 'annotations': [{'start': 0, 'en...             NaN   \n3     {'time': 119, 'annotations': [{'start': 30, 'e...             NaN   \n4     {'time': 157, 'annotations': [{'start': 0, 'en...             NaN   \n...                                                 ...             ...   \n6101                                                NaN             NaN   \n6102                                                NaN             NaN   \n6103                                                NaN             NaN   \n6104                                                NaN             NaN   \n6105                                                NaN             NaN   \n\n     script_exception_x      kind_y  \\\n0                   NaN  news_texts   \n1                   NaN  news_texts   \n2                   NaN  news_texts   \n3                   NaN  news_texts   \n4                   NaN  news_texts   \n...                 ...         ...   \n6101                NaN  blog_texts   \n6102                NaN  blog_texts   \n6103                NaN  blog_texts   \n6104                NaN  blog_texts   \n6105                NaN  blog_texts   \n\n                                                 text_y  \\\n0     Chicago church embraces ‘The Gospel According ...   \n1     Opinion | Endorsements for Montgomery County C...   \n2     Arch Manning, nephew of Peyton and Eli Manning...   \n3     NBA draft winners and losers: Banchero, Smith ...   \n4     Gaetz, Brooks, Biggs, Gohmert, Perry accused o...   \n...                                                 ...   \n6101  shing minerality on the palate and blossom sce...   \n6102  he QR code located on the site or on any 2020 ...   \n6103  baker’s chocolate with a hint of acidity.Fresh...   \n6104  egan with eco-friendly packaging — sustainable...   \n6105  suite of ultra-premium crafted cocktails avail...   \n\n                                             dp_results  dp_error  \\\n0                                                   NaN       NaN   \n1     {'annotations': [{'start': 27, 'end': 52, 'spo...       NaN   \n2     {'annotations': [{'start': 0, 'end': 12, 'spot...       NaN   \n3     {'annotations': [{'start': 0, 'end': 3, 'spot'...       NaN   \n4     {'annotations': [{'start': 56, 'end': 61, 'spo...       NaN   \n...                                                 ...       ...   \n6101                                                NaN       NaN   \n6102                                                NaN       NaN   \n6103                                                NaN       NaN   \n6104                                                NaN       NaN   \n6105                                                NaN       NaN   \n\n                                     script_exception_y  \n0     <class 'json.decoder.JSONDecodeError'>: Expect...  \n1                                                   NaN  \n2                                                   NaN  \n3                                                   NaN  \n4                                                   NaN  \n...                                                 ...  \n6101                                                NaN  \n6102                                                NaN  \n6103                                                NaN  \n6104                                                NaN  \n6105                                                NaN  \n\n[6106 rows x 10 columns]",
      "text/html": "<div>\n<style scoped>\n    .dataframe tbody tr th:only-of-type {\n        vertical-align: middle;\n    }\n\n    .dataframe tbody tr th {\n        vertical-align: top;\n    }\n\n    .dataframe thead th {\n        text-align: right;\n    }\n</style>\n<table border=\"1\" class=\"dataframe\">\n  <thead>\n    <tr style=\"text-align: right;\">\n      <th></th>\n      <th>kind_x</th>\n      <th>text_x</th>\n      <th>dandelion_results</th>\n      <th>dandelion_error</th>\n      <th>script_exception_x</th>\n      <th>kind_y</th>\n      <th>text_y</th>\n      <th>dp_results</th>\n      <th>dp_error</th>\n      <th>script_exception_y</th>\n    </tr>\n  </thead>\n  <tbody>\n    <tr>\n      <th>0</th>\n      <td>news_texts</td>\n      <td>Chicago church embraces ‘The Gospel According ...</td>\n      <td>{'time': 100, 'annotations': [{'start': 0, 'en...</td>\n      <td>NaN</td>\n      <td>NaN</td>\n      <td>news_texts</td>\n      <td>Chicago church embraces ‘The Gospel According ...</td>\n      <td>NaN</td>\n      <td>NaN</td>\n      <td>&lt;class 'json.decoder.JSONDecodeError'&gt;: Expect...</td>\n    </tr>\n    <tr>\n      <th>1</th>\n      <td>news_texts</td>\n      <td>Opinion | Endorsements for Montgomery County C...</td>\n      <td>{'time': 92, 'annotations': [{'start': 27, 'en...</td>\n      <td>NaN</td>\n      <td>NaN</td>\n      <td>news_texts</td>\n      <td>Opinion | Endorsements for Montgomery County C...</td>\n      <td>{'annotations': [{'start': 27, 'end': 52, 'spo...</td>\n      <td>NaN</td>\n      <td>NaN</td>\n    </tr>\n    <tr>\n      <th>2</th>\n      <td>news_texts</td>\n      <td>Arch Manning, nephew of Peyton and Eli Manning...</td>\n      <td>{'time': 138, 'annotations': [{'start': 0, 'en...</td>\n      <td>NaN</td>\n      <td>NaN</td>\n      <td>news_texts</td>\n      <td>Arch Manning, nephew of Peyton and Eli Manning...</td>\n      <td>{'annotations': [{'start': 0, 'end': 12, 'spot...</td>\n      <td>NaN</td>\n      <td>NaN</td>\n    </tr>\n    <tr>\n      <th>3</th>\n      <td>news_texts</td>\n      <td>NBA draft winners and losers: Banchero, Smith ...</td>\n      <td>{'time': 119, 'annotations': [{'start': 30, 'e...</td>\n      <td>NaN</td>\n      <td>NaN</td>\n      <td>news_texts</td>\n      <td>NBA draft winners and losers: Banchero, Smith ...</td>\n      <td>{'annotations': [{'start': 0, 'end': 3, 'spot'...</td>\n      <td>NaN</td>\n      <td>NaN</td>\n    </tr>\n    <tr>\n      <th>4</th>\n      <td>news_texts</td>\n      <td>Gaetz, Brooks, Biggs, Gohmert, Perry accused o...</td>\n      <td>{'time': 157, 'annotations': [{'start': 0, 'en...</td>\n      <td>NaN</td>\n      <td>NaN</td>\n      <td>news_texts</td>\n      <td>Gaetz, Brooks, Biggs, Gohmert, Perry accused o...</td>\n      <td>{'annotations': [{'start': 56, 'end': 61, 'spo...</td>\n      <td>NaN</td>\n      <td>NaN</td>\n    </tr>\n    <tr>\n      <th>...</th>\n      <td>...</td>\n      <td>...</td>\n      <td>...</td>\n      <td>...</td>\n      <td>...</td>\n      <td>...</td>\n      <td>...</td>\n      <td>...</td>\n      <td>...</td>\n      <td>...</td>\n    </tr>\n    <tr>\n      <th>6101</th>\n      <td>blog_texts</td>\n      <td>shing minerality on the palate and blossom sce...</td>\n      <td>NaN</td>\n      <td>NaN</td>\n      <td>NaN</td>\n      <td>blog_texts</td>\n      <td>shing minerality on the palate and blossom sce...</td>\n      <td>NaN</td>\n      <td>NaN</td>\n      <td>NaN</td>\n    </tr>\n    <tr>\n      <th>6102</th>\n      <td>blog_texts</td>\n      <td>he QR code located on the site or on any 2020 ...</td>\n      <td>NaN</td>\n      <td>NaN</td>\n      <td>NaN</td>\n      <td>blog_texts</td>\n      <td>he QR code located on the site or on any 2020 ...</td>\n      <td>NaN</td>\n      <td>NaN</td>\n      <td>NaN</td>\n    </tr>\n    <tr>\n      <th>6103</th>\n      <td>blog_texts</td>\n      <td>baker’s chocolate with a hint of acidity.Fresh...</td>\n      <td>NaN</td>\n      <td>NaN</td>\n      <td>NaN</td>\n      <td>blog_texts</td>\n      <td>baker’s chocolate with a hint of acidity.Fresh...</td>\n      <td>NaN</td>\n      <td>NaN</td>\n      <td>NaN</td>\n    </tr>\n    <tr>\n      <th>6104</th>\n      <td>blog_texts</td>\n      <td>egan with eco-friendly packaging — sustainable...</td>\n      <td>NaN</td>\n      <td>NaN</td>\n      <td>NaN</td>\n      <td>blog_texts</td>\n      <td>egan with eco-friendly packaging — sustainable...</td>\n      <td>NaN</td>\n      <td>NaN</td>\n      <td>NaN</td>\n    </tr>\n    <tr>\n      <th>6105</th>\n      <td>blog_texts</td>\n      <td>suite of ultra-premium crafted cocktails avail...</td>\n      <td>NaN</td>\n      <td>NaN</td>\n      <td>NaN</td>\n      <td>blog_texts</td>\n      <td>suite of ultra-premium crafted cocktails avail...</td>\n      <td>NaN</td>\n      <td>NaN</td>\n      <td>NaN</td>\n    </tr>\n  </tbody>\n</table>\n<p>6106 rows × 10 columns</p>\n</div>"
     },
     "execution_count": 38,
     "metadata": {},
     "output_type": "execute_result"
    }
   ],
   "source": [
    "comparison_df = pd.merge(dandelion_results_df, dp_results_df, left_index=True, right_index=True, how=\"left\")\n",
    "comparison_df"
   ],
   "metadata": {
    "collapsed": false,
    "pycharm": {
     "name": "#%%\n"
    }
   }
  },
  {
   "cell_type": "code",
   "execution_count": 74,
   "outputs": [
    {
     "name": "stdout",
     "output_type": "stream",
     "text": [
      "- rent control;PostDemocracy;pedestrian safety;learning;Germantown;affordable housing;actions;businesses;local;residential property;crime;business;businesses;property management;Chamber of Commerce;lawyer;state flag;covid-19;public transportation;Gaithersburg;seats;Montgomery County;term-limited;Op-ed;funds;The Washington Post\n",
      "+ Washington Post Accessibility;Goldberg;Marilyn Balcombe;Gabe Albornoz;election;primary;the County Council;Montgomery;Goldberg;Germantown Chamber;Scott Goldberg;Andrew Friedson;ballot;primary;Evan Glass;Montgomery;Commerce\n",
      "\n",
      "- pick;Arch Manning;quarterback;Peyton;Arch Manning;basketball;footwork;Isidore Newman School;quarterback;Arch Manning;Maalik;Twitter;touchdown;starter;quarterbacks;college football;Warner;Manning;freshman;2009-10 season;grandson;Peyton;Eli Manning;passes;The Washington Post;varsity;pocket presence;Matt Leinart;PostDemocracy;quarterback;Manning family\n",
      "+ college;com;Greenies;football;MaxPreps;season;season;Isidore Newman;Ranked;Eli;Matt BonesteelJune;Washington Post Accessibility;Isidore Newman;Nelson Stewart;Tim Warner;Maalik Murphy;STUD\n",
      "\n",
      "- Magic;anxiety;Paolo Banchero;Kemba Walker;Jalen Suggs;Orlando Magic;Orlando Magic;Stephen;NBA draft;Jalen Duren;Jabari Smith Jr.;Duke;Duke;Banchero;AP;Magic trick;Orlando Sentinel;Banchero;lottery pick;tug-of-war;Chet Holmgren;frontcourt;Gonzaga;Banchero;New York;Houston Rockets;Barclays Center;Paolo Banchero;Houston;Damian;EDT;point guard;Orlando Magic;Dowell;New York;rough night;Auburn;The Washington Post;Banchero;Banchero;NBA;Orlando;draft;Paolo Banchero;Houston Rockets;Detroit;menuA;Sacramento;Duke;For what it’s worth;fantasy;Brooklyn;Houston Rockets\n",
      "+ Smith;Duke's;Chet HolmgrenLosers;New York KnicksWinner;Magic;Damian LillardLoser;Orlando;Gonzaga's;Magic;NBA;Ousmane Dieng;NBA;Washington Post Accessibility;Detroit PistonsLosers;Ben GolliverStaff;Orlando Magic;Orlando Sentinel;Kemba Walker's;Sacramento KingsWinners;Auburn's;EDT;Rockets;AP;Houston;Orlando MagicReturn;Houston Rockets;Stephen M . Dowell;NBA;Jalen Green;Magic;Banchero's;Orlando Magic;Orlando Magic;Houston Rockets;New York KnicksReturn;Shaedon SharpeWinners;Brooklyn NetsWinner;draft;Paolo Banchero;Orlando MagicLosers;season;Houston Rockets;Barclays Center\n",
      "\n",
      "- Biggs;belief;false claims of election fraud;PostDemocracy;reason;election fraud;Congress;pardon;hearing;White House;law enforcement;committee hearing;House;pardon;Policy;EDT;investigations;hearing;Gaetz;Gaetz;presidential election;Biggs;pardon;unconstitutional;witnesses;Rep. Adam Kinzinger;deposition;Gaetz;2021, attack on the U.S. Capitol;Fla;Cassidy Hutchinson;Trump;The Washington Post;Justice;House committee;Scott Perry;Biggs;pardon;members of Congress;The Washington Post;Matt Gaetz;pardons;John McEntee;Donald Trump;Trump;Mark Meadows;Ariz;Congress;Tex;Louie Gohmert;The Washington Post;hearing;select committee;Capitol breach;Republican;tweeted;2021, attack;Justice Department;The Washington Post;Pa;Congress;2020 election;actions;Andy Biggs;Justice Department;Rep. Adam Kinzinger;Trump;pardon;Mo Brooks;Immigration;attack;pardons;White House Chief of Staff;Donald Trump;criminal;pardon;pardons\n",
      "+ Reps;Trump's;committee;Andy Biggs;. 6;Louie Gohmert;White House;House;Scott Perry;EDTThe House;Donald Trump's;Capitol;Mo Brooks;Adam Kinzinger;The Washington Post;John McEntee;House;Congress;Congress;Congress;Washington Post Accessibility;The Washington Post;The Washington Post;JM Rieger;Oliver Contreras;committee;results;election;Cassidy Hutchinson;Devlin BarrettUpdated;Photo;. 6;election;Matt Gaetz;Justice Department;Republican;Mark Meadows;Trump;the Justice Department;White House;presidential;Congress\n",
      "\n",
      "- sequel;Post;Heon;aircraft carrier;U.S. military;Policies;PostDemocracy;op-ed;Miles Teller;Lightyear;The Washington Post;the Washington Post;Top Gun;Customer;aircraft carriers;Top Gun;op-ed;Top Gun: Maverick;Top Gun;Subscribers;Jeon;com©;Discussion;Customer;Op-ed;Community;Discussion;Lotte World Tower\n",
      "+ U;com;com;Top Drone;Opinions;Washington Post Accessibility;The Washington Postwashingtonpost;Sign;Opinion;Opinions Submit;. military;Md;Opinion;Rex;EducationPrint Archives;U;Eileen Bjorkman\n",
      "\n",
      "- Share;Democracy Dies in Darkness;The Washington Post;Help desk;Contact;Twitter;Op-Ed;Email;Share;Tumblr;Op-Ed;Username;Pinterest;Facebook;Share;Share;Share;subscriptions;LinkedIn;Help desk;Share;subscriptions;The Washington Post\n",
      "+ \n",
      "\n",
      "- background checks;shotguns;states;National Rifle Association;grocery store;U.S. Marine Corps;second term;legislation;District of Columbia;Buffalo, New York;Federal Bureau of Investigation;boyfriend loophole;background check;fund;homicide;handguns;pistols;firearms;firearm;juvenile;grant;dealers;spouse;PostDemocracy;domestic violence;NRA;Indianapolis, Indiana, U.S.;gun violence prevention;states;universal background checks;violent behavior;federal law;president;people;background checks;AR-15;advocates;criminal;sellers;court;laws;Lieutenant Colonel;Licensed;rules;parent company;company;empower;Joe Biden;case;guns;Background Checks;gun shows;gun-rights;Boyfriend Loophole;co-parent;Red Flag;legislation;police officers;actions;gun-show loophole;partners;nonprofit;The Washington Post;laws;family;legislative\n",
      "+ Indianapolis;the Federal Bureau of Investigation;Checks;U;Biden;Washington Post Accessibility;US CongressAnalysis;Courtney Rozen;U;Bloomberg;Congress;National Rifle Association (;Indiana;US\n",
      "\n",
      "- her class;flight test engineer;tankers;1970s;Pilots;Capt.;Top Gun: Maverick;campaigns;combat missions;Air Force Test Center;aircraft;Navy;battles;Op-ed;Top Gun: Maverick;Grenada;sequel;F-4;A-4;radars;Women’s Armed Services Integration Act;The Washington Post;leaders;U.S. Air Force;pilots;PostDemocracy;training aircraft;aircraft;Kelly McGillis;fighter pilot;airplanes;troops;F-16;pilots;fairness;Phoenix;RF-4C;F/A-18 “Super Hornet;Maverick;personnel;military;Top Gun;jamming;pilots;naval aviators\n",
      "+ U;Eileen Bjorkman;Washington Post Accessibility;the Air Force Test Center;director;Opinion;pilot;Super Hornet;Md\n",
      "\n",
      "- Metro;card;Fraze;L’Enfant Plaza;office;seniors;Metro;toll;online.Advertisement;mobile;demand;budget;Transit;transaction;agency;fare;Metro;vending machines;coronavirus pandemic;products;fare card;people with disabilities;decision;Gaya;Metro;Services;stations;Metro;fare;PostDemocracy;Gupta;stores;The Washington Post;transactions;media;internet sales;Accessibility;lower;industry;customer service;SmarTrip;SmarTrip;media;mobile payment;finances;Fraze;revenue;Gaya;commuter;transit agency;services;stores;customers\n",
      "+ Gaya GuptaJune;Metro;Barb Fraze;Washington Post Accessibility;Transit Accessibility Center;Transit;Metro;Metro\n",
      "\n",
      "- ice cream;ice cream maker;my husband and I;goat milk;vanilla beans;dairy;omelets;sugar;flavor;ice cream;goat milk;Poached;egg white;The Washington Post;dessert;PostDemocracy;egg yolks;egg whites;food styling;Goat milk;Quince;Vanilla extract;ice cream;whole milk;not that there’s anything wrong with that;taste;vanilla flavor;ice cream;eggs;sub;goat milk;course;vanilla ice;vanilla ice;egg yolks;flavor;ice cream;pot;goat milk;Rose Water;sugar;vanilla ice;The Washington Post;scoop;salt;Goat Milk;Pudding;goat milk;mixing;heavy cream;corn syrup;whole milk;time;sweeter;egg yolks\n",
      "+ Goat;Lisa Cherkasky;vanilla;Ann MaloneyJune;Scott Suchman;Deborah Reid;Olga Massov;Goat Milk Pudding and;Washington Post;Poached Quince With Rose Water;The Washington Post Accessibility\n",
      "\n"
     ]
    }
   ],
   "source": [
    "import ast\n",
    "\n",
    "comparison_df = comparison_df.dropna(subset=[\"dandelion_results\", \"dp_results\"], how=\"any\")\n",
    "for idx, row in comparison_df[:10].iterrows():\n",
    "    dandelion_substrings = {(ann[\"start\"], ann[\"end\"]): ann[\"spot\"] for ann in ast.literal_eval(row[\"dandelion_results\"])[\"annotations\"]}\n",
    "    dp_substrings = {(ann[\"start\"], ann[\"end\"]): ann[\"spot\"] for ann in row[\"dp_results\"][\"annotations\"]}\n",
    "\n",
    "    negative_diff = set(dandelion_substrings) - set(dp_substrings)\n",
    "    positive_diff = set(dp_substrings) - set(dandelion_substrings)\n",
    "    print(f\"- {';'.join(dandelion_substrings[nd] for nd in negative_diff)}\")\n",
    "    print(f\"+ {';'.join(dp_substrings[pd] for pd in positive_diff)}\")\n",
    "    print()"
   ],
   "metadata": {
    "collapsed": false,
    "pycharm": {
     "name": "#%%\n"
    }
   }
  },
  {
   "cell_type": "code",
   "execution_count": null,
   "outputs": [],
   "source": [],
   "metadata": {
    "collapsed": false,
    "pycharm": {
     "name": "#%%\n"
    }
   }
  }
 ],
 "metadata": {
  "kernelspec": {
   "display_name": "Python 3",
   "language": "python",
   "name": "python3"
  },
  "language_info": {
   "codemirror_mode": {
    "name": "ipython",
    "version": 2
   },
   "file_extension": ".py",
   "mimetype": "text/x-python",
   "name": "python",
   "nbconvert_exporter": "python",
   "pygments_lexer": "ipython2",
   "version": "2.7.6"
  }
 },
 "nbformat": 4,
 "nbformat_minor": 0
}