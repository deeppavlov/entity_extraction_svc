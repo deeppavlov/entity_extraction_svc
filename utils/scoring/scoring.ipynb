{
 "cells": [
  {
   "cell_type": "code",
   "execution_count": 1,
   "outputs": [
    {
     "name": "stderr",
     "output_type": "stream",
     "text": [
      "/home/mtalimanchuk/.virtualenvs/entity_extraction_svc/lib/python3.7/site-packages/pandas/compat/__init__.py:85: UserWarning: Could not import the lzma module. Your installed Python is incomplete. Attempting to use lzma compression will result in a RuntimeError.\n",
      "  warnings.warn(msg)\n"
     ]
    }
   ],
   "source": [
    "import pandas as pd\n",
    "import requests\n",
    "from tqdm.notebook import tqdm\n",
    "\n",
    "import dandelion"
   ],
   "metadata": {
    "collapsed": false,
    "pycharm": {
     "name": "#%%\n"
    }
   }
  },
  {
   "cell_type": "code",
   "execution_count": 2,
   "outputs": [
    {
     "name": "stdout",
     "output_type": "stream",
     "text": [
      "--2022-06-28 12:58:57--  https://files.deeppavlov.ai/deeppavlov_data/entity_linking/test_dataset.pickle\r\n",
      "Resolving files.deeppavlov.ai (files.deeppavlov.ai)... 178.63.27.41\r\n",
      "Connecting to files.deeppavlov.ai (files.deeppavlov.ai)|178.63.27.41|:443... connected.\r\n",
      "HTTP request sent, awaiting response... 200 OK\r\n",
      "Length: 17668715 (17M) [application/octet-stream]\r\n",
      "Saving to: ‘test_dataset.pickle’\r\n",
      "\r\n",
      "test_dataset.pickle 100%[===================>]  16.85M  9.37MB/s    in 1.8s    \r\n",
      "\r\n",
      "2022-06-28 12:58:59 (9.37 MB/s) - ‘test_dataset.pickle’ saved [17668715/17668715]\r\n",
      "\r\n"
     ]
    }
   ],
   "source": [
    "!wget https://files.deeppavlov.ai/deeppavlov_data/entity_linking/test_dataset.pickle"
   ],
   "metadata": {
    "collapsed": false,
    "pycharm": {
     "name": "#%%\n"
    }
   }
  },
  {
   "cell_type": "markdown",
   "source": [
    "## Download pickled dataset and prepare it for scoring"
   ],
   "metadata": {
    "collapsed": false,
    "pycharm": {
     "name": "#%% md\n"
    }
   }
  },
  {
   "cell_type": "code",
   "execution_count": 3,
   "outputs": [],
   "source": [
    "import pickle\n",
    "\n",
    "with open(\"test_dataset.pickle\", \"rb\") as dataset_f:\n",
    "    dataset = pickle.load(dataset_f)\n",
    "\n",
    "full_dataset = []\n",
    "for kind, value_list in dataset.items():\n",
    "    data_rows = [{\"kind\": kind, \"full_text\": value} for value in value_list]\n",
    "    full_dataset += data_rows\n",
    "\n",
    "dataset_df = pd.DataFrame(full_dataset)\n",
    "slice_size = 3500\n",
    "max_text_len = dataset_df[\"full_text\"].str.len().max()\n",
    "max_slices = max_text_len // slice_size\n",
    "\n",
    "for s_idx in range(max_slices):\n",
    "    start = s_idx * slice_size\n",
    "    stop = start + slice_size\n",
    "    dataset_df[f\"text_{s_idx}\"] = dataset_df[\"full_text\"].str.slice(start, stop)\n",
    "\n",
    "dataset_df = dataset_df.melt(id_vars=[\"kind\", \"full_text\"], value_name=\"text\")\n",
    "dataset_df.replace(\"\", float(\"NaN\"), inplace=True)\n",
    "dataset_df.dropna(subset=[\"text\"], inplace=True)\n",
    "dataset_df.reset_index(inplace=True)\n",
    "dataset_df[[\"kind\", \"text\"]].to_csv(\"test_dataset.csv\", sep=\"|\", index=False)"
   ],
   "metadata": {
    "collapsed": false,
    "pycharm": {
     "name": "#%%\n"
    }
   }
  },
  {
   "cell_type": "code",
   "execution_count": 4,
   "outputs": [],
   "source": [
    "!rm test_dataset.pickle"
   ],
   "metadata": {
    "collapsed": false,
    "pycharm": {
     "name": "#%%\n"
    }
   }
  },
  {
   "cell_type": "code",
   "execution_count": 5,
   "outputs": [
    {
     "data": {
      "text/plain": "            kind                                               text\n0     news_texts  Chicago church embraces ‘The Gospel According ...\n1     news_texts  Opinion | Endorsements for Montgomery County C...\n2     news_texts  Arch Manning, nephew of Peyton and Eli Manning...\n3     news_texts  NBA draft winners and losers: Banchero, Smith ...\n4     news_texts  Gaetz, Brooks, Biggs, Gohmert, Perry accused o...\n...          ...                                                ...\n6101  blog_texts  shing minerality on the palate and blossom sce...\n6102  blog_texts  he QR code located on the site or on any 2020 ...\n6103  blog_texts  baker’s chocolate with a hint of acidity.Fresh...\n6104  blog_texts  egan with eco-friendly packaging — sustainable...\n6105  blog_texts  suite of ultra-premium crafted cocktails avail...\n\n[6106 rows x 2 columns]",
      "text/html": "<div>\n<style scoped>\n    .dataframe tbody tr th:only-of-type {\n        vertical-align: middle;\n    }\n\n    .dataframe tbody tr th {\n        vertical-align: top;\n    }\n\n    .dataframe thead th {\n        text-align: right;\n    }\n</style>\n<table border=\"1\" class=\"dataframe\">\n  <thead>\n    <tr style=\"text-align: right;\">\n      <th></th>\n      <th>kind</th>\n      <th>text</th>\n    </tr>\n  </thead>\n  <tbody>\n    <tr>\n      <th>0</th>\n      <td>news_texts</td>\n      <td>Chicago church embraces ‘The Gospel According ...</td>\n    </tr>\n    <tr>\n      <th>1</th>\n      <td>news_texts</td>\n      <td>Opinion | Endorsements for Montgomery County C...</td>\n    </tr>\n    <tr>\n      <th>2</th>\n      <td>news_texts</td>\n      <td>Arch Manning, nephew of Peyton and Eli Manning...</td>\n    </tr>\n    <tr>\n      <th>3</th>\n      <td>news_texts</td>\n      <td>NBA draft winners and losers: Banchero, Smith ...</td>\n    </tr>\n    <tr>\n      <th>4</th>\n      <td>news_texts</td>\n      <td>Gaetz, Brooks, Biggs, Gohmert, Perry accused o...</td>\n    </tr>\n    <tr>\n      <th>...</th>\n      <td>...</td>\n      <td>...</td>\n    </tr>\n    <tr>\n      <th>6101</th>\n      <td>blog_texts</td>\n      <td>shing minerality on the palate and blossom sce...</td>\n    </tr>\n    <tr>\n      <th>6102</th>\n      <td>blog_texts</td>\n      <td>he QR code located on the site or on any 2020 ...</td>\n    </tr>\n    <tr>\n      <th>6103</th>\n      <td>blog_texts</td>\n      <td>baker’s chocolate with a hint of acidity.Fresh...</td>\n    </tr>\n    <tr>\n      <th>6104</th>\n      <td>blog_texts</td>\n      <td>egan with eco-friendly packaging — sustainable...</td>\n    </tr>\n    <tr>\n      <th>6105</th>\n      <td>blog_texts</td>\n      <td>suite of ultra-premium crafted cocktails avail...</td>\n    </tr>\n  </tbody>\n</table>\n<p>6106 rows × 2 columns</p>\n</div>"
     },
     "execution_count": 5,
     "metadata": {},
     "output_type": "execute_result"
    }
   ],
   "source": [
    "dataset_df = pd.read_csv(\"test_dataset.csv\", sep=\"|\")\n",
    "dataset_df"
   ],
   "metadata": {
    "collapsed": false,
    "pycharm": {
     "name": "#%%\n"
    }
   }
  },
  {
   "cell_type": "code",
   "execution_count": 6,
   "outputs": [],
   "source": [
    "def run_dandelion(df, fresh_start=True):\n",
    "    results = []\n",
    "\n",
    "    with requests.Session() as sess:\n",
    "        for idx, row in tqdm(df.iterrows(), total=len(df)):\n",
    "            if not pd.isna(row.get(\"dandelion_results\", float(\"NaN\"))):\n",
    "                continue\n",
    "\n",
    "            data = error = exception = float(\"NaN\")\n",
    "            try:\n",
    "                result = dandelion.extract_dandelion(sess, row[\"text\"])\n",
    "                if result.error:\n",
    "                    error = result.error\n",
    "                    if error.get(\"code\") in [\"error.authenticationError\", \"error.forbiddenError\"]:\n",
    "                        print(\"Exceeded API token limit, come back tomorrow!\")\n",
    "                        break\n",
    "                else:\n",
    "                    data = result.data\n",
    "            except Exception as e:\n",
    "                exception = f\"{type(e)}: {e}\"\n",
    "            results.append({\"index\": idx, \"dandelion_results\": data, \"dandelion_error\": error, \"dandelion_script_exception\": exception})\n",
    "\n",
    "    if results:\n",
    "        results_df = pd.DataFrame(results)\n",
    "        results_df.set_index(\"index\", inplace=True)\n",
    "        if fresh_start:\n",
    "            results_df = pd.merge(df, results_df, left_index=True, right_index=True, how=\"left\")\n",
    "        else:\n",
    "            df.update(results_df, overwrite=False)\n",
    "            results_df = df\n",
    "\n",
    "        results_df.to_csv(\"test_dataset_dandelion.csv\", sep=\"|\", index=False)\n",
    "    else:\n",
    "        results_df = df\n",
    "\n",
    "    return results_df\n"
   ],
   "metadata": {
    "collapsed": false,
    "pycharm": {
     "name": "#%%\n"
    }
   }
  },
  {
   "cell_type": "markdown",
   "source": [
    "## Fresh run\n",
    "Execute this cell only if you don't have a test_dataset_dandelion.csv yet"
   ],
   "metadata": {
    "collapsed": false,
    "pycharm": {
     "name": "#%% md\n"
    }
   }
  },
  {
   "cell_type": "code",
   "execution_count": 9,
   "outputs": [
    {
     "name": "stderr",
     "output_type": "stream",
     "text": [
      "  0%|          | 0/6106 [00:00<?, ?it/s]/home/mtalimanchuk/.virtualenvs/entity_extraction_svc/lib/python3.7/site-packages/cryptography/hazmat/backends/openssl/x509.py:17: CryptographyDeprecationWarning: This version of cryptography contains a temporary pyOpenSSL fallback path. Upgrade pyOpenSSL now.\n",
      "  utils.DeprecatedIn35,\n",
      " 18%|█▊        | 1088/6106 [04:26<15:29,  5.40it/s]  "
     ]
    },
    {
     "name": "stdout",
     "output_type": "stream",
     "text": [
      "Exceeded API token limit, come back tomorrow!\n"
     ]
    },
    {
     "data": {
      "text/plain": "            kind                                               text  \\\n0     news_texts  Chicago church embraces ‘The Gospel According ...   \n1     news_texts  Opinion | Endorsements for Montgomery County C...   \n2     news_texts  Arch Manning, nephew of Peyton and Eli Manning...   \n3     news_texts  NBA draft winners and losers: Banchero, Smith ...   \n4     news_texts  Gaetz, Brooks, Biggs, Gohmert, Perry accused o...   \n...          ...                                                ...   \n6101  blog_texts  shing minerality on the palate and blossom sce...   \n6102  blog_texts  he QR code located on the site or on any 2020 ...   \n6103  blog_texts  baker’s chocolate with a hint of acidity.Fresh...   \n6104  blog_texts  egan with eco-friendly packaging — sustainable...   \n6105  blog_texts  suite of ultra-premium crafted cocktails avail...   \n\n                                      dandelion_results dandelion_error  \\\n0     {'time': 100, 'annotations': [{'start': 0, 'en...             NaN   \n1     {'time': 92, 'annotations': [{'start': 27, 'en...             NaN   \n2     {'time': 138, 'annotations': [{'start': 0, 'en...             NaN   \n3     {'time': 119, 'annotations': [{'start': 30, 'e...             NaN   \n4     {'time': 157, 'annotations': [{'start': 0, 'en...             NaN   \n...                                                 ...             ...   \n6101                                                NaN             NaN   \n6102                                                NaN             NaN   \n6103                                                NaN             NaN   \n6104                                                NaN             NaN   \n6105                                                NaN             NaN   \n\n     script_exception  \n0                 NaN  \n1                 NaN  \n2                 NaN  \n3                 NaN  \n4                 NaN  \n...               ...  \n6101              NaN  \n6102              NaN  \n6103              NaN  \n6104              NaN  \n6105              NaN  \n\n[6106 rows x 5 columns]",
      "text/html": "<div>\n<style scoped>\n    .dataframe tbody tr th:only-of-type {\n        vertical-align: middle;\n    }\n\n    .dataframe tbody tr th {\n        vertical-align: top;\n    }\n\n    .dataframe thead th {\n        text-align: right;\n    }\n</style>\n<table border=\"1\" class=\"dataframe\">\n  <thead>\n    <tr style=\"text-align: right;\">\n      <th></th>\n      <th>kind</th>\n      <th>text</th>\n      <th>dandelion_results</th>\n      <th>dandelion_error</th>\n      <th>script_exception</th>\n    </tr>\n  </thead>\n  <tbody>\n    <tr>\n      <th>0</th>\n      <td>news_texts</td>\n      <td>Chicago church embraces ‘The Gospel According ...</td>\n      <td>{'time': 100, 'annotations': [{'start': 0, 'en...</td>\n      <td>NaN</td>\n      <td>NaN</td>\n    </tr>\n    <tr>\n      <th>1</th>\n      <td>news_texts</td>\n      <td>Opinion | Endorsements for Montgomery County C...</td>\n      <td>{'time': 92, 'annotations': [{'start': 27, 'en...</td>\n      <td>NaN</td>\n      <td>NaN</td>\n    </tr>\n    <tr>\n      <th>2</th>\n      <td>news_texts</td>\n      <td>Arch Manning, nephew of Peyton and Eli Manning...</td>\n      <td>{'time': 138, 'annotations': [{'start': 0, 'en...</td>\n      <td>NaN</td>\n      <td>NaN</td>\n    </tr>\n    <tr>\n      <th>3</th>\n      <td>news_texts</td>\n      <td>NBA draft winners and losers: Banchero, Smith ...</td>\n      <td>{'time': 119, 'annotations': [{'start': 30, 'e...</td>\n      <td>NaN</td>\n      <td>NaN</td>\n    </tr>\n    <tr>\n      <th>4</th>\n      <td>news_texts</td>\n      <td>Gaetz, Brooks, Biggs, Gohmert, Perry accused o...</td>\n      <td>{'time': 157, 'annotations': [{'start': 0, 'en...</td>\n      <td>NaN</td>\n      <td>NaN</td>\n    </tr>\n    <tr>\n      <th>...</th>\n      <td>...</td>\n      <td>...</td>\n      <td>...</td>\n      <td>...</td>\n      <td>...</td>\n    </tr>\n    <tr>\n      <th>6101</th>\n      <td>blog_texts</td>\n      <td>shing minerality on the palate and blossom sce...</td>\n      <td>NaN</td>\n      <td>NaN</td>\n      <td>NaN</td>\n    </tr>\n    <tr>\n      <th>6102</th>\n      <td>blog_texts</td>\n      <td>he QR code located on the site or on any 2020 ...</td>\n      <td>NaN</td>\n      <td>NaN</td>\n      <td>NaN</td>\n    </tr>\n    <tr>\n      <th>6103</th>\n      <td>blog_texts</td>\n      <td>baker’s chocolate with a hint of acidity.Fresh...</td>\n      <td>NaN</td>\n      <td>NaN</td>\n      <td>NaN</td>\n    </tr>\n    <tr>\n      <th>6104</th>\n      <td>blog_texts</td>\n      <td>egan with eco-friendly packaging — sustainable...</td>\n      <td>NaN</td>\n      <td>NaN</td>\n      <td>NaN</td>\n    </tr>\n    <tr>\n      <th>6105</th>\n      <td>blog_texts</td>\n      <td>suite of ultra-premium crafted cocktails avail...</td>\n      <td>NaN</td>\n      <td>NaN</td>\n      <td>NaN</td>\n    </tr>\n  </tbody>\n</table>\n<p>6106 rows × 5 columns</p>\n</div>"
     },
     "execution_count": 9,
     "metadata": {},
     "output_type": "execute_result"
    }
   ],
   "source": [
    "# Fresh run\n",
    "dandelion_results_df = run_dandelion(dataset_df, fresh_start=True)\n",
    "dandelion_results_df"
   ],
   "metadata": {
    "collapsed": false,
    "pycharm": {
     "name": "#%%\n"
    }
   }
  },
  {
   "cell_type": "markdown",
   "source": [
    "## Consecutive runs\n",
    "Run this if you already have a test_dataset_dandelion.csv from previous runs"
   ],
   "metadata": {
    "collapsed": false,
    "pycharm": {
     "name": "#%% md\n"
    }
   }
  },
  {
   "cell_type": "code",
   "execution_count": 7,
   "outputs": [
    {
     "name": "stderr",
     "output_type": "stream",
     "text": [
      "  0%|          | 0/6106 [00:00<?, ?it/s]/home/mtalimanchuk/.virtualenvs/entity_extraction_svc/lib/python3.7/site-packages/cryptography/hazmat/backends/openssl/x509.py:17: CryptographyDeprecationWarning: This version of cryptography contains a temporary pyOpenSSL fallback path. Upgrade pyOpenSSL now.\n",
      "  utils.DeprecatedIn35,\n",
      " 38%|███▊      | 2319/6106 [03:35<10:30,  6.01it/s]  "
     ]
    },
    {
     "name": "stdout",
     "output_type": "stream",
     "text": [
      "Exceeded API token limit, come back tomorrow!\n"
     ]
    },
    {
     "data": {
      "text/plain": "            kind                                               text  \\\n0     news_texts  Chicago church embraces ‘The Gospel According ...   \n1     news_texts  Opinion | Endorsements for Montgomery County C...   \n2     news_texts  Arch Manning, nephew of Peyton and Eli Manning...   \n3     news_texts  NBA draft winners and losers: Banchero, Smith ...   \n4     news_texts  Gaetz, Brooks, Biggs, Gohmert, Perry accused o...   \n...          ...                                                ...   \n6101  blog_texts  shing minerality on the palate and blossom sce...   \n6102  blog_texts  he QR code located on the site or on any 2020 ...   \n6103  blog_texts  baker’s chocolate with a hint of acidity.Fresh...   \n6104  blog_texts  egan with eco-friendly packaging — sustainable...   \n6105  blog_texts  suite of ultra-premium crafted cocktails avail...   \n\n                                      dandelion_results dandelion_error  \\\n0     {'time': 100, 'annotations': [{'start': 0, 'en...             NaN   \n1     {'time': 92, 'annotations': [{'start': 27, 'en...             NaN   \n2     {'time': 138, 'annotations': [{'start': 0, 'en...             NaN   \n3     {'time': 119, 'annotations': [{'start': 30, 'e...             NaN   \n4     {'time': 157, 'annotations': [{'start': 0, 'en...             NaN   \n...                                                 ...             ...   \n6101                                                NaN             NaN   \n6102                                                NaN             NaN   \n6103                                                NaN             NaN   \n6104                                                NaN             NaN   \n6105                                                NaN             NaN   \n\n     script_exception  \n0                 NaN  \n1                 NaN  \n2                 NaN  \n3                 NaN  \n4                 NaN  \n...               ...  \n6101              NaN  \n6102              NaN  \n6103              NaN  \n6104              NaN  \n6105              NaN  \n\n[6106 rows x 5 columns]",
      "text/html": "<div>\n<style scoped>\n    .dataframe tbody tr th:only-of-type {\n        vertical-align: middle;\n    }\n\n    .dataframe tbody tr th {\n        vertical-align: top;\n    }\n\n    .dataframe thead th {\n        text-align: right;\n    }\n</style>\n<table border=\"1\" class=\"dataframe\">\n  <thead>\n    <tr style=\"text-align: right;\">\n      <th></th>\n      <th>kind</th>\n      <th>text</th>\n      <th>dandelion_results</th>\n      <th>dandelion_error</th>\n      <th>script_exception</th>\n    </tr>\n  </thead>\n  <tbody>\n    <tr>\n      <th>0</th>\n      <td>news_texts</td>\n      <td>Chicago church embraces ‘The Gospel According ...</td>\n      <td>{'time': 100, 'annotations': [{'start': 0, 'en...</td>\n      <td>NaN</td>\n      <td>NaN</td>\n    </tr>\n    <tr>\n      <th>1</th>\n      <td>news_texts</td>\n      <td>Opinion | Endorsements for Montgomery County C...</td>\n      <td>{'time': 92, 'annotations': [{'start': 27, 'en...</td>\n      <td>NaN</td>\n      <td>NaN</td>\n    </tr>\n    <tr>\n      <th>2</th>\n      <td>news_texts</td>\n      <td>Arch Manning, nephew of Peyton and Eli Manning...</td>\n      <td>{'time': 138, 'annotations': [{'start': 0, 'en...</td>\n      <td>NaN</td>\n      <td>NaN</td>\n    </tr>\n    <tr>\n      <th>3</th>\n      <td>news_texts</td>\n      <td>NBA draft winners and losers: Banchero, Smith ...</td>\n      <td>{'time': 119, 'annotations': [{'start': 30, 'e...</td>\n      <td>NaN</td>\n      <td>NaN</td>\n    </tr>\n    <tr>\n      <th>4</th>\n      <td>news_texts</td>\n      <td>Gaetz, Brooks, Biggs, Gohmert, Perry accused o...</td>\n      <td>{'time': 157, 'annotations': [{'start': 0, 'en...</td>\n      <td>NaN</td>\n      <td>NaN</td>\n    </tr>\n    <tr>\n      <th>...</th>\n      <td>...</td>\n      <td>...</td>\n      <td>...</td>\n      <td>...</td>\n      <td>...</td>\n    </tr>\n    <tr>\n      <th>6101</th>\n      <td>blog_texts</td>\n      <td>shing minerality on the palate and blossom sce...</td>\n      <td>NaN</td>\n      <td>NaN</td>\n      <td>NaN</td>\n    </tr>\n    <tr>\n      <th>6102</th>\n      <td>blog_texts</td>\n      <td>he QR code located on the site or on any 2020 ...</td>\n      <td>NaN</td>\n      <td>NaN</td>\n      <td>NaN</td>\n    </tr>\n    <tr>\n      <th>6103</th>\n      <td>blog_texts</td>\n      <td>baker’s chocolate with a hint of acidity.Fresh...</td>\n      <td>NaN</td>\n      <td>NaN</td>\n      <td>NaN</td>\n    </tr>\n    <tr>\n      <th>6104</th>\n      <td>blog_texts</td>\n      <td>egan with eco-friendly packaging — sustainable...</td>\n      <td>NaN</td>\n      <td>NaN</td>\n      <td>NaN</td>\n    </tr>\n    <tr>\n      <th>6105</th>\n      <td>blog_texts</td>\n      <td>suite of ultra-premium crafted cocktails avail...</td>\n      <td>NaN</td>\n      <td>NaN</td>\n      <td>NaN</td>\n    </tr>\n  </tbody>\n</table>\n<p>6106 rows × 5 columns</p>\n</div>"
     },
     "execution_count": 7,
     "metadata": {},
     "output_type": "execute_result"
    }
   ],
   "source": [
    "# Run again using dandelion_results_df to update missing results\n",
    "dandelion_results_df = pd.read_csv(\"test_dataset_dandelion.csv\", sep=\"|\")\n",
    "dandelion_results_df = run_dandelion(dandelion_results_df, fresh_start=False)\n",
    "dandelion_results_df"
   ],
   "metadata": {
    "collapsed": false,
    "pycharm": {
     "name": "#%%\n"
    }
   }
  },
  {
   "cell_type": "code",
   "execution_count": 33,
   "outputs": [],
   "source": [
    "def run_deeppavlov(df, url, slice_start=None, slice_stop=None):\n",
    "    df_slice = df[slice_start:slice_stop]\n",
    "    results = []\n",
    "\n",
    "    with requests.Session() as sess:\n",
    "        for idx, row in tqdm(df_slice.iterrows(), total=len(df_slice)):\n",
    "            data = error = exception = float(\"NaN\")\n",
    "            try:\n",
    "                response = sess.post(url, json={\"text\": row[\"text\"]})\n",
    "                result = response.json()\n",
    "                if result.get(\"detail\"):\n",
    "                    error = result\n",
    "                else:\n",
    "                    data = result\n",
    "            except Exception as e:\n",
    "                exception = f\"{type(e)}: {e}\"\n",
    "            results.append({\"index\": idx, \"dp_results\": data, \"dp_error\": error, \"dp_script_exception\": exception})\n",
    "\n",
    "    # if results:\n",
    "    results_df = pd.DataFrame(results)\n",
    "    results_df.set_index(\"index\", inplace=True)\n",
    "    results_df = pd.merge(df, results_df, left_index=True, right_index=True, how=\"left\")\n",
    "\n",
    "    results_df.to_csv(\"test_dataset_dp.csv\", sep=\"|\", index=False)\n",
    "    # else:\n",
    "    #     results_df = df\n",
    "\n",
    "    return results_df"
   ],
   "metadata": {
    "collapsed": false,
    "pycharm": {
     "name": "#%%\n"
    }
   }
  },
  {
   "cell_type": "code",
   "execution_count": 34,
   "outputs": [
    {
     "data": {
      "text/plain": "HBox(children=(FloatProgress(value=0.0, max=2000.0), HTML(value='')))",
      "application/vnd.jupyter.widget-view+json": {
       "version_major": 2,
       "version_minor": 0,
       "model_id": "20f3a09499e84907a1847118df616295"
      }
     },
     "metadata": {},
     "output_type": "display_data"
    },
    {
     "name": "stdout",
     "output_type": "stream",
     "text": [
      "\n"
     ]
    },
    {
     "data": {
      "text/plain": "            kind                                               text  \\\n0     news_texts  Chicago church embraces ‘The Gospel According ...   \n1     news_texts  Opinion | Endorsements for Montgomery County C...   \n2     news_texts  Arch Manning, nephew of Peyton and Eli Manning...   \n3     news_texts  NBA draft winners and losers: Banchero, Smith ...   \n4     news_texts  Gaetz, Brooks, Biggs, Gohmert, Perry accused o...   \n...          ...                                                ...   \n6101  blog_texts  shing minerality on the palate and blossom sce...   \n6102  blog_texts  he QR code located on the site or on any 2020 ...   \n6103  blog_texts  baker’s chocolate with a hint of acidity.Fresh...   \n6104  blog_texts  egan with eco-friendly packaging — sustainable...   \n6105  blog_texts  suite of ultra-premium crafted cocktails avail...   \n\n                                             dp_results  dp_error  \\\n0                                                   NaN       NaN   \n1     {'annotations': [{'start': 27, 'end': 52, 'spo...       NaN   \n2     {'annotations': [{'start': 0, 'end': 12, 'spot...       NaN   \n3     {'annotations': [{'start': 0, 'end': 3, 'spot'...       NaN   \n4     {'annotations': [{'start': 56, 'end': 61, 'spo...       NaN   \n...                                                 ...       ...   \n6101                                                NaN       NaN   \n6102                                                NaN       NaN   \n6103                                                NaN       NaN   \n6104                                                NaN       NaN   \n6105                                                NaN       NaN   \n\n                                       script_exception  \n0     <class 'json.decoder.JSONDecodeError'>: Expect...  \n1                                                   NaN  \n2                                                   NaN  \n3                                                   NaN  \n4                                                   NaN  \n...                                                 ...  \n6101                                                NaN  \n6102                                                NaN  \n6103                                                NaN  \n6104                                                NaN  \n6105                                                NaN  \n\n[6106 rows x 5 columns]",
      "text/html": "<div>\n<style scoped>\n    .dataframe tbody tr th:only-of-type {\n        vertical-align: middle;\n    }\n\n    .dataframe tbody tr th {\n        vertical-align: top;\n    }\n\n    .dataframe thead th {\n        text-align: right;\n    }\n</style>\n<table border=\"1\" class=\"dataframe\">\n  <thead>\n    <tr style=\"text-align: right;\">\n      <th></th>\n      <th>kind</th>\n      <th>text</th>\n      <th>dp_results</th>\n      <th>dp_error</th>\n      <th>script_exception</th>\n    </tr>\n  </thead>\n  <tbody>\n    <tr>\n      <th>0</th>\n      <td>news_texts</td>\n      <td>Chicago church embraces ‘The Gospel According ...</td>\n      <td>NaN</td>\n      <td>NaN</td>\n      <td>&lt;class 'json.decoder.JSONDecodeError'&gt;: Expect...</td>\n    </tr>\n    <tr>\n      <th>1</th>\n      <td>news_texts</td>\n      <td>Opinion | Endorsements for Montgomery County C...</td>\n      <td>{'annotations': [{'start': 27, 'end': 52, 'spo...</td>\n      <td>NaN</td>\n      <td>NaN</td>\n    </tr>\n    <tr>\n      <th>2</th>\n      <td>news_texts</td>\n      <td>Arch Manning, nephew of Peyton and Eli Manning...</td>\n      <td>{'annotations': [{'start': 0, 'end': 12, 'spot...</td>\n      <td>NaN</td>\n      <td>NaN</td>\n    </tr>\n    <tr>\n      <th>3</th>\n      <td>news_texts</td>\n      <td>NBA draft winners and losers: Banchero, Smith ...</td>\n      <td>{'annotations': [{'start': 0, 'end': 3, 'spot'...</td>\n      <td>NaN</td>\n      <td>NaN</td>\n    </tr>\n    <tr>\n      <th>4</th>\n      <td>news_texts</td>\n      <td>Gaetz, Brooks, Biggs, Gohmert, Perry accused o...</td>\n      <td>{'annotations': [{'start': 56, 'end': 61, 'spo...</td>\n      <td>NaN</td>\n      <td>NaN</td>\n    </tr>\n    <tr>\n      <th>...</th>\n      <td>...</td>\n      <td>...</td>\n      <td>...</td>\n      <td>...</td>\n      <td>...</td>\n    </tr>\n    <tr>\n      <th>6101</th>\n      <td>blog_texts</td>\n      <td>shing minerality on the palate and blossom sce...</td>\n      <td>NaN</td>\n      <td>NaN</td>\n      <td>NaN</td>\n    </tr>\n    <tr>\n      <th>6102</th>\n      <td>blog_texts</td>\n      <td>he QR code located on the site or on any 2020 ...</td>\n      <td>NaN</td>\n      <td>NaN</td>\n      <td>NaN</td>\n    </tr>\n    <tr>\n      <th>6103</th>\n      <td>blog_texts</td>\n      <td>baker’s chocolate with a hint of acidity.Fresh...</td>\n      <td>NaN</td>\n      <td>NaN</td>\n      <td>NaN</td>\n    </tr>\n    <tr>\n      <th>6104</th>\n      <td>blog_texts</td>\n      <td>egan with eco-friendly packaging — sustainable...</td>\n      <td>NaN</td>\n      <td>NaN</td>\n      <td>NaN</td>\n    </tr>\n    <tr>\n      <th>6105</th>\n      <td>blog_texts</td>\n      <td>suite of ultra-premium crafted cocktails avail...</td>\n      <td>NaN</td>\n      <td>NaN</td>\n      <td>NaN</td>\n    </tr>\n  </tbody>\n</table>\n<p>6106 rows × 5 columns</p>\n</div>"
     },
     "execution_count": 34,
     "metadata": {},
     "output_type": "execute_result"
    }
   ],
   "source": [
    "dp_results_df = run_deeppavlov(dataset_df, \"http://10.11.1.6:9999/\", 0, 2000)\n",
    "dp_results_df"
   ],
   "metadata": {
    "collapsed": false,
    "pycharm": {
     "name": "#%%\n"
    }
   }
  },
  {
   "cell_type": "markdown",
   "source": [
    "## Merging results and comparing"
   ],
   "metadata": {
    "collapsed": false,
    "pycharm": {
     "name": "#%% md\n"
    }
   }
  },
  {
   "cell_type": "code",
   "execution_count": 28,
   "outputs": [
    {
     "data": {
      "text/plain": "          kind_x                                             text_x  \\\n1     news_texts  Opinion | Endorsements for Montgomery County C...   \n2     news_texts  Arch Manning, nephew of Peyton and Eli Manning...   \n3     news_texts  NBA draft winners and losers: Banchero, Smith ...   \n4     news_texts  Gaetz, Brooks, Biggs, Gohmert, Perry accused o...   \n5     news_texts  Opinion | Coming not soon: ‘Top Drone’ - The W...   \n...          ...                                                ...   \n1994  news_texts  ese — is itself made of upcycled items. The fl...   \n1995  news_texts  an be used safely.”Timothy Ingalsbee, executiv...   \n1996  news_texts   by the fact that he would not correspond to r...   \n1997  news_texts  s into the room where the House select committ...   \n1999  news_texts  onal Museum and the Vasa Museum — and a vibran...   \n\n                                      dandelion_results dandelion_error  \\\n1     {'time': 92, 'annotations': [{'start': 27, 'en...             NaN   \n2     {'time': 138, 'annotations': [{'start': 0, 'en...             NaN   \n3     {'time': 119, 'annotations': [{'start': 30, 'e...             NaN   \n4     {'time': 157, 'annotations': [{'start': 0, 'en...             NaN   \n5     {'time': 101, 'annotations': [{'start': 41, 'e...             NaN   \n...                                                 ...             ...   \n1994  {'time': 110, 'annotations': [{'start': 24, 'e...             NaN   \n1995  {'time': 71, 'annotations': [{'start': 62, 'en...             NaN   \n1996  {'time': 81, 'annotations': [{'start': 8, 'end...             NaN   \n1997  {'time': 79, 'annotations': [{'start': 32, 'en...             NaN   \n1999  {'time': 119, 'annotations': [{'start': 0, 'en...             NaN   \n\n     script_exception_x      kind_y  \\\n1                   NaN  news_texts   \n2                   NaN  news_texts   \n3                   NaN  news_texts   \n4                   NaN  news_texts   \n5                   NaN  news_texts   \n...                 ...         ...   \n1994                NaN  news_texts   \n1995                NaN  news_texts   \n1996                NaN  news_texts   \n1997                NaN  news_texts   \n1999                NaN  news_texts   \n\n                                                 text_y  \\\n1     Opinion | Endorsements for Montgomery County C...   \n2     Arch Manning, nephew of Peyton and Eli Manning...   \n3     NBA draft winners and losers: Banchero, Smith ...   \n4     Gaetz, Brooks, Biggs, Gohmert, Perry accused o...   \n5     Opinion | Coming not soon: ‘Top Drone’ - The W...   \n...                                                 ...   \n1994  ese — is itself made of upcycled items. The fl...   \n1995  an be used safely.”Timothy Ingalsbee, executiv...   \n1996   by the fact that he would not correspond to r...   \n1997  s into the room where the House select committ...   \n1999  onal Museum and the Vasa Museum — and a vibran...   \n\n                                             dp_results  dp_error  \\\n1     {'annotations': [{'start': 27, 'end': 52, 'spo...       NaN   \n2     {'annotations': [{'start': 0, 'end': 12, 'spot...       NaN   \n3     {'annotations': [{'start': 0, 'end': 3, 'spot'...       NaN   \n4     {'annotations': [{'start': 56, 'end': 61, 'spo...       NaN   \n5     {'annotations': [{'start': 0, 'end': 7, 'spot'...       NaN   \n...                                                 ...       ...   \n1994  {'annotations': [{'start': 287, 'end': 293, 's...       NaN   \n1995  {'annotations': [{'start': 19, 'end': 36, 'spo...       NaN   \n1996  {'annotations': [{'start': 114, 'end': 118, 's...       NaN   \n1997  {'annotations': [{'start': 26, 'end': 31, 'spo...       NaN   \n1999  {'annotations': [{'start': 0, 'end': 11, 'spot...       NaN   \n\n     script_exception_y  \n1                   NaN  \n2                   NaN  \n3                   NaN  \n4                   NaN  \n5                   NaN  \n...                 ...  \n1994                NaN  \n1995                NaN  \n1996                NaN  \n1997                NaN  \n1999                NaN  \n\n[1448 rows x 10 columns]",
      "text/html": "<div>\n<style scoped>\n    .dataframe tbody tr th:only-of-type {\n        vertical-align: middle;\n    }\n\n    .dataframe tbody tr th {\n        vertical-align: top;\n    }\n\n    .dataframe thead th {\n        text-align: right;\n    }\n</style>\n<table border=\"1\" class=\"dataframe\">\n  <thead>\n    <tr style=\"text-align: right;\">\n      <th></th>\n      <th>kind_x</th>\n      <th>text_x</th>\n      <th>dandelion_results</th>\n      <th>dandelion_error</th>\n      <th>script_exception_x</th>\n      <th>kind_y</th>\n      <th>text_y</th>\n      <th>dp_results</th>\n      <th>dp_error</th>\n      <th>script_exception_y</th>\n    </tr>\n  </thead>\n  <tbody>\n    <tr>\n      <th>1</th>\n      <td>news_texts</td>\n      <td>Opinion | Endorsements for Montgomery County C...</td>\n      <td>{'time': 92, 'annotations': [{'start': 27, 'en...</td>\n      <td>NaN</td>\n      <td>NaN</td>\n      <td>news_texts</td>\n      <td>Opinion | Endorsements for Montgomery County C...</td>\n      <td>{'annotations': [{'start': 27, 'end': 52, 'spo...</td>\n      <td>NaN</td>\n      <td>NaN</td>\n    </tr>\n    <tr>\n      <th>2</th>\n      <td>news_texts</td>\n      <td>Arch Manning, nephew of Peyton and Eli Manning...</td>\n      <td>{'time': 138, 'annotations': [{'start': 0, 'en...</td>\n      <td>NaN</td>\n      <td>NaN</td>\n      <td>news_texts</td>\n      <td>Arch Manning, nephew of Peyton and Eli Manning...</td>\n      <td>{'annotations': [{'start': 0, 'end': 12, 'spot...</td>\n      <td>NaN</td>\n      <td>NaN</td>\n    </tr>\n    <tr>\n      <th>3</th>\n      <td>news_texts</td>\n      <td>NBA draft winners and losers: Banchero, Smith ...</td>\n      <td>{'time': 119, 'annotations': [{'start': 30, 'e...</td>\n      <td>NaN</td>\n      <td>NaN</td>\n      <td>news_texts</td>\n      <td>NBA draft winners and losers: Banchero, Smith ...</td>\n      <td>{'annotations': [{'start': 0, 'end': 3, 'spot'...</td>\n      <td>NaN</td>\n      <td>NaN</td>\n    </tr>\n    <tr>\n      <th>4</th>\n      <td>news_texts</td>\n      <td>Gaetz, Brooks, Biggs, Gohmert, Perry accused o...</td>\n      <td>{'time': 157, 'annotations': [{'start': 0, 'en...</td>\n      <td>NaN</td>\n      <td>NaN</td>\n      <td>news_texts</td>\n      <td>Gaetz, Brooks, Biggs, Gohmert, Perry accused o...</td>\n      <td>{'annotations': [{'start': 56, 'end': 61, 'spo...</td>\n      <td>NaN</td>\n      <td>NaN</td>\n    </tr>\n    <tr>\n      <th>5</th>\n      <td>news_texts</td>\n      <td>Opinion | Coming not soon: ‘Top Drone’ - The W...</td>\n      <td>{'time': 101, 'annotations': [{'start': 41, 'e...</td>\n      <td>NaN</td>\n      <td>NaN</td>\n      <td>news_texts</td>\n      <td>Opinion | Coming not soon: ‘Top Drone’ - The W...</td>\n      <td>{'annotations': [{'start': 0, 'end': 7, 'spot'...</td>\n      <td>NaN</td>\n      <td>NaN</td>\n    </tr>\n    <tr>\n      <th>...</th>\n      <td>...</td>\n      <td>...</td>\n      <td>...</td>\n      <td>...</td>\n      <td>...</td>\n      <td>...</td>\n      <td>...</td>\n      <td>...</td>\n      <td>...</td>\n      <td>...</td>\n    </tr>\n    <tr>\n      <th>1994</th>\n      <td>news_texts</td>\n      <td>ese — is itself made of upcycled items. The fl...</td>\n      <td>{'time': 110, 'annotations': [{'start': 24, 'e...</td>\n      <td>NaN</td>\n      <td>NaN</td>\n      <td>news_texts</td>\n      <td>ese — is itself made of upcycled items. The fl...</td>\n      <td>{'annotations': [{'start': 287, 'end': 293, 's...</td>\n      <td>NaN</td>\n      <td>NaN</td>\n    </tr>\n    <tr>\n      <th>1995</th>\n      <td>news_texts</td>\n      <td>an be used safely.”Timothy Ingalsbee, executiv...</td>\n      <td>{'time': 71, 'annotations': [{'start': 62, 'en...</td>\n      <td>NaN</td>\n      <td>NaN</td>\n      <td>news_texts</td>\n      <td>an be used safely.”Timothy Ingalsbee, executiv...</td>\n      <td>{'annotations': [{'start': 19, 'end': 36, 'spo...</td>\n      <td>NaN</td>\n      <td>NaN</td>\n    </tr>\n    <tr>\n      <th>1996</th>\n      <td>news_texts</td>\n      <td>by the fact that he would not correspond to r...</td>\n      <td>{'time': 81, 'annotations': [{'start': 8, 'end...</td>\n      <td>NaN</td>\n      <td>NaN</td>\n      <td>news_texts</td>\n      <td>by the fact that he would not correspond to r...</td>\n      <td>{'annotations': [{'start': 114, 'end': 118, 's...</td>\n      <td>NaN</td>\n      <td>NaN</td>\n    </tr>\n    <tr>\n      <th>1997</th>\n      <td>news_texts</td>\n      <td>s into the room where the House select committ...</td>\n      <td>{'time': 79, 'annotations': [{'start': 32, 'en...</td>\n      <td>NaN</td>\n      <td>NaN</td>\n      <td>news_texts</td>\n      <td>s into the room where the House select committ...</td>\n      <td>{'annotations': [{'start': 26, 'end': 31, 'spo...</td>\n      <td>NaN</td>\n      <td>NaN</td>\n    </tr>\n    <tr>\n      <th>1999</th>\n      <td>news_texts</td>\n      <td>onal Museum and the Vasa Museum — and a vibran...</td>\n      <td>{'time': 119, 'annotations': [{'start': 0, 'en...</td>\n      <td>NaN</td>\n      <td>NaN</td>\n      <td>news_texts</td>\n      <td>onal Museum and the Vasa Museum — and a vibran...</td>\n      <td>{'annotations': [{'start': 0, 'end': 11, 'spot...</td>\n      <td>NaN</td>\n      <td>NaN</td>\n    </tr>\n  </tbody>\n</table>\n<p>1448 rows × 10 columns</p>\n</div>"
     },
     "execution_count": 28,
     "metadata": {},
     "output_type": "execute_result"
    }
   ],
   "source": [
    "import ast\n",
    "\n",
    "\n",
    "def try_literal_eval(df_row):\n",
    "    try:\n",
    "        result = ast.literal_eval(df_row)\n",
    "    except:\n",
    "        result = float(\"NaN\")\n",
    "    return result\n",
    "\n",
    "dandelion_results_df = pd.read_csv(\"test_dataset_dandelion.csv\", sep=\"|\", converters={\"dandelion_results\": try_literal_eval, \"dandelion_error\": try_literal_eval})\n",
    "dp_results_df = pd.read_csv(\"test_dataset_dp.csv\", sep=\"|\", converters={\"dp_results\": try_literal_eval, \"dp_error\": try_literal_eval})\n",
    "\n",
    "comparison_df = pd.merge(dandelion_results_df, dp_results_df, left_index=True, right_index=True, how=\"left\")\n",
    "comparison_df = comparison_df.dropna(subset=[\"dandelion_results\", \"dp_results\"], how=\"any\")\n",
    "comparison_df"
   ],
   "metadata": {
    "collapsed": false,
    "pycharm": {
     "name": "#%%\n"
    }
   }
  },
  {
   "cell_type": "code",
   "execution_count": 30,
   "outputs": [
    {
     "name": "stdout",
     "output_type": "stream",
     "text": [
      "Entry idx=947\n",
      "- Market\n",
      "- LTV\n",
      "- payback\n",
      "- health\n",
      "- develop\n",
      "- payback\n",
      "- acquire\n",
      "- gold standard\n",
      "- stay here forever\n",
      "- behavior\n",
      "- premium\n",
      "- customers\n",
      "- vc\n",
      "- growth\n",
      "- efficient\n",
      "- fundamentals\n",
      "- product\n",
      "- companies\n",
      "- macro\n",
      "- growth\n",
      "- customers\n",
      "- growth\n",
      "- valuation\n",
      "- margins\n",
      "- Cash\n",
      "- working capital\n",
      "- invest\n",
      "- public markets\n",
      "- profit margins\n",
      "- business\n",
      "- business\n",
      "- healthy\n",
      "- company\n",
      "- market, making\n",
      "- capital\n",
      "- marketing\n",
      "- metrics\n",
      "- metric\n",
      "- Growth\n",
      "- market forces\n",
      "- efficiency\n",
      "- ARPU\n",
      "- Technological advancement\n",
      "- influence\n",
      "- companies\n",
      "- margin\n",
      "- cash\n",
      "- cash\n",
      "- ARPU\n",
      "- acquisition\n",
      "- gross\n",
      "- profitability\n",
      "- marketing\n",
      "- economics\n",
      "- ROI\n",
      "- growth\n",
      "- cash flow\n",
      "- companies\n",
      "- quadrant\n",
      "- margins\n",
      "- gross\n",
      "- business\n",
      "- quadrant\n",
      "- benchmarks\n",
      "- Payback\n",
      "- competition\n",
      "- payback\n",
      "- Cash\n",
      "- quadrant\n",
      "- customers\n",
      "- email\n",
      "- growth\n",
      "- margin\n",
      "- companies\n",
      "- customers\n",
      "- payback\n",
      "- business\n",
      "- growth\n",
      "- efficiency\n",
      "- business\n",
      "- Payback\n",
      "- payback\n",
      "- economics\n",
      "- LTV\n",
      "- consumer preferences\n",
      "- payback\n",
      "- profitability\n",
      "- market forces\n",
      "- Payback\n",
      "- Growth\n",
      "- dynamics\n",
      "- companies\n",
      "- efficiency\n",
      "- products\n",
      "- cash\n",
      "- investment\n",
      "+ CAC\n",
      "+ CAC\n",
      "+ CAC Payback\n",
      "+ Subscription\n",
      "+ CAC\n",
      "+ CAC\n",
      "+ CAC\n",
      "+ CAC Payback\n",
      "+ Parsa Saljoughian\n",
      "+ LTV\n",
      "+ CAC Payback\n",
      "+ CAC\n",
      "+ CAC\n",
      "+ LTV Model\n",
      "+ CAC\n",
      "\n",
      "Entry idx=612\n",
      "- so what\n",
      "- January 6 Committee\n",
      "- brutality\n",
      "- popular votes\n",
      "- slates\n",
      "- state\n",
      "- democracy\n",
      "- work\n",
      "- electors\n",
      "- families\n",
      "- American history\n",
      "- state\n",
      "- Let’s get serious\n",
      "- violence\n",
      "- women’s\n",
      "- apathy\n",
      "- leader of the opposition\n",
      "- theocrats\n",
      "- impeachment\n",
      "- get real\n",
      "- Whew\n",
      "- election\n",
      "- second chances\n",
      "- states\n",
      "- bodily autonomy\n",
      "- fascists\n",
      "- in plain sight\n",
      "- Eudaimonia\n",
      "- gay\n",
      "- teachers\n",
      "- Kids\n",
      "- right about now\n",
      "- All that matters\n",
      "- theocrats\n",
      "- re\n",
      "+ Democracy\n",
      "+ American\n",
      "+ Nations\n",
      "+ Committee\n",
      "+ American\n",
      "+ American\n",
      "+ Capitol\n",
      "+ hearings\n",
      "+ 6th\n",
      "+ America\n",
      "+ Americans\n",
      "+ America\n",
      "+ Brent StirtonHow\n",
      "\n",
      "Entry idx=1384\n",
      "- narco\n",
      "- military\n",
      "- paramilitaries\n",
      "- Entertainment\n",
      "- networks\n",
      "- cable news channel\n",
      "- entrepreneur\n",
      "- television producer\n",
      "- Bogotá\n",
      "- Chief Content Officer\n",
      "- Isaac Lee\n",
      "- channel\n",
      "- Semana\n",
      "- StoryHouse\n",
      "- Isaac Lee\n",
      "- magazine\n",
      "- Univision\n",
      "- producer\n",
      "- president\n",
      "- Entertainment\n",
      "- political corruption\n",
      "- family name\n",
      "- founder\n",
      "- Bogotá\n",
      "- Spanish-language\n",
      "- Cromos\n",
      "- Univision\n",
      "- guerrillas\n",
      "- Colombian\n",
      "- Digital\n",
      "- Chief Content Officer\n",
      "- premium\n",
      "- joint venture\n",
      "- TV Series\n",
      "- media conglomerate\n",
      "- traffickers\n",
      "- properties\n",
      "- Residente\n",
      "- StoryHouse\n",
      "- publishing house\n",
      "- Colombian\n",
      "- Hispanic\n",
      "- Colombia\n",
      "- Wikipedia, the free encyclopedia\n",
      "- editor-in-chief\n",
      "- media company\n",
      "- El Chapo\n",
      "- editor-in-chief\n",
      "- peace process\n",
      "- journalist\n",
      "- surname\n",
      "- Colombia\n",
      "- Editor in Chief\n",
      "+ Wikipedia\n",
      "+ Semana\n",
      "+ EXILE Content\n",
      "+ TV Series \"\n",
      "+ CA\n",
      "+ documentary\n",
      "+ UCI's\n",
      "+ US\n",
      "+ Univision\n",
      "+ PODER Magazine\n",
      "+ PODER Magazine\n",
      "+ News\n",
      "+ Documentary Unit\n",
      "+ Colombia's\n",
      "+ Investigative Unit\n",
      "+ Semana\n",
      "+ Univision News\n",
      "+ Colombia's\n",
      "+ News\n",
      "+ Isaac Lee PossinIsaac Lee Possin\n",
      "+ StoryHouse Entertainment\n",
      "+ Spanish\n",
      "+ language\n",
      "+ Los Angeles\n",
      "\n",
      "Entry idx=1244\n",
      "- Håvard Bøkko\n",
      "- Mobile\n",
      "- non-profit organization\n",
      "- events\n",
      "- 2009–10 ISU Speed Skating World Cup\n",
      "- events\n",
      "- Speed Skating\n",
      "- categories\n",
      "- World Cup 3\n",
      "- Lucas Makowsky\n",
      "- Sven Kramer\n",
      "- Germany\n",
      "- Vikingskipet\n",
      "- Developers\n",
      "- UTC\n",
      "- Daniela Anschütz-Thoms\n",
      "- SpeedSkating World\n",
      "- ISU\n",
      "- Shani Davis\n",
      "- Netherlands\n",
      "- 1500 m\n",
      "- Netherlands\n",
      "- Namespaces\n",
      "- 2009-10 World Cup\n",
      "- 1500 meters\n",
      "- Canada\n",
      "- 1500 meters\n",
      "- World Cup #3\n",
      "- Netherlands\n",
      "- Martina Sáblíková\n",
      "- 2009–10 ISU Speed Skating World Cup\n",
      "- Stephanie Beckert\n",
      "- Events\n",
      "- Kristina Groves\n",
      "- World Cup #3\n",
      "- 2009-10 World Cup\n",
      "- 5000 meters\n",
      "- Creative Commons Attribution-ShareAlike License\n",
      "- registered trademark\n",
      "- Gold\n",
      "- World Cup #3\n",
      "- Terms of Use\n",
      "- Privacy policy\n",
      "- Wikipedia, the free encyclopedia\n",
      "- events\n",
      "- Ireen Wüst\n",
      "- Czech Republic\n",
      "- event\n",
      "- Bob de Jong\n",
      "- bokmål\n",
      "- Hamar\n",
      "- 2009-10 World Cup\n",
      "- file\n",
      "- United States\n",
      "- 10,000 meters\n",
      "- Cookie\n",
      "- World Cup #3\n",
      "- CET\n",
      "- Germany\n",
      "- Contact\n",
      "- Print\n",
      "- Wikimedia Foundation, Inc\n",
      "- Martina Sáblíková\n",
      "- Czech Republic\n",
      "- speed skating\n",
      "- Canada\n",
      "- 2009–10 ISU Speed Skating World Cup\n",
      "- مصر\n",
      "- 1500 m\n",
      "- CET\n",
      "- Wikidata\n",
      "+ com\n",
      "+ 10 World Cup\n",
      "+ Lucas Makowsky Canada\n",
      "+ Women's\n",
      "+ 10 World Cup\n",
      "+ Norway\n",
      "+ com\n",
      "+ ISU SpeedSkating World CupEvents500\n",
      "+ 2009\n",
      "+ Sven Kramer Netherlands\n",
      "+ Creative Commons\n",
      "+ com\n",
      "+ Wikipedia Disclaimers\n",
      "+ Stephanie Beckert Germany\n",
      "+ Wikipedia\n",
      "+ 10 World Cup\n",
      "+ ShareAlike License\n",
      "+ com\n",
      "+ 10\n",
      "+ organization\n",
      "+ Text\n",
      "+ Shani Davis United States\n",
      "+ Terms\n",
      "+ Time\n",
      "\n",
      "Entry idx=478\n",
      "- FedEx\n",
      "- PostDemocracy\n",
      "- franchise\n",
      "- U.S. Soccer\n",
      "- men’s World Cup\n",
      "- Daniel Snyder\n",
      "- Daniel Snyder\n",
      "- quarterback\n",
      "- The Washington Post\n",
      "- downtown D.C.\n",
      "- Washington Commanders\n",
      "- 2026 World Cup\n",
      "- Jalen Hurts\n",
      "+ Ravens\n",
      "+ Washington\n",
      "+ World Cup\n",
      "+ World Cup\n",
      "+ Hurts\n",
      "+ U\n",
      "+ Blame\n",
      "+ Soccer\n",
      "+ World Cup's\n",
      "+ World Cup\n",
      "+ Jalen\n",
      "+ 2026\n",
      "+ World Cup\n",
      "+ Washington\n",
      "+ World Cup\n",
      "+ 2026\n",
      "+ Washington Post Accessibility\n",
      "+ Washington\n",
      "\n"
     ]
    }
   ],
   "source": [
    "def sample_diff(df, n=10):\n",
    "    for idx, row in df.sample(n=n, axis=\"index\").iterrows():\n",
    "        dandelion_substrings = {(ann[\"start\"], ann[\"end\"]): ann[\"spot\"] for ann in row[\"dandelion_results\"][\"annotations\"]}\n",
    "        dp_substrings = {(ann[\"start\"], ann[\"end\"]): ann[\"spot\"] for ann in row[\"dp_results\"][\"annotations\"]}\n",
    "\n",
    "        negative_diff = set(dandelion_substrings) - set(dp_substrings)\n",
    "        positive_diff = set(dp_substrings) - set(dandelion_substrings)\n",
    "        print(f\"Entry idx={idx}\")\n",
    "        for nd in negative_diff:\n",
    "            print(f\"- {dandelion_substrings[nd]}\")\n",
    "\n",
    "        for pd in positive_diff:\n",
    "            print(f\"+ {dp_substrings[pd]}\")\n",
    "\n",
    "        print()\n",
    "\n",
    "sample_diff(comparison_df, n=5)"
   ],
   "metadata": {
    "collapsed": false,
    "pycharm": {
     "name": "#%%\n"
    }
   }
  },
  {
   "cell_type": "code",
   "execution_count": 43,
   "outputs": [
    {
     "data": {
      "text/plain": "'The Importance of CAC Payback in Today’s Market Environment | by Parsa Saljoughian | parsa.vc | Jun, 2022 | MediumGet unlimited accessOpen in appHomeNotificationsListsStoriesWritePublished inparsa.vcParsa SaljoughianFollowJun 8·10 min readThe Importance of CAC Payback in Today’s Market EnvironmentOver the last few years, LTV / CAC has become the gold standard metric to determine the growth and profitability potential of a direct-to-consumer business. Somewhere along the way, the concept of CAC payback got lost, but it has huge implications on a company’s ability to scale efficiently. In today’s evolving macro environment, specifically highlighted by the recent emphasis on cash flow and profitability, cash efficiency is becoming much more important. In this post I’ll: 1) share why long CAC payback times can be a silent killer to growth and efficiency, 2) identify the major market forces that can erode unit economics, 3) highlight key benchmarks for a healthy business, and 4) share case studies and examples of companies that fall along the spectrum.LTV / CAC + CAC PaybackWhile both of these metrics are important to monitor, they need to be taken together to understand the health of a business. Together they represent the margin efficiency of growth combined with the cash efficiency of that growth.LTV / CAC: Represents the margin efficiency of an investment to acquire customers (ROI)CAC Payback: Represents the cash efficiency of spend to acquire these customersIf you want a refresher on core concepts around LTV, CAC, payback, and ARPU, check out this post I wrote previously on the topic. Below is a handy LTV model you can play with as well.Subscription LTV Model.xlsxDropbox is a free service that lets you bring your photos, docs, and videos anywhere and share them easily. Never email…www.dropbox.comHigh-Growth, Cash EfficientThe companies in this top-right quadrant are high performers. Every business strives to live in this quadrant. These companies have both strong LTV / CAC dynamics and fast payback. They get here by operating in large markets, having high frequency user engagement, flattening retention cohorts, and high gross margins. As a result of fast payback, they can recycle cash and re-invest into product and marketing to drive growth, develop new growth engines, all while maintaining strong profit margins. These strong business fundamentals are rewarded in the public markets with premium valuation multiples.But being in this quadrant doesn’t mean a company will stay here forever. These companies must push against market forces that will naturally erode their unit economics in multiple ways:LTV decreases: 1) As companies acquire more adjacent customers, retention will degrade. 2) Technological advancement and changing consumer preferences influence usage patterns and spending behavior.CAC increases: 1) CAC will naturally increase as companies invest and saturate their core marketing channels. 2) Growth will attract capital and competition to the market, making it more expensive to acquire customers.In order to remain in the top right quadrant, companies must either improve LTV by increasing gross margins, expanding ARPU with new products, improving retention, or they must find more efficient acquisition channels to reach new customers.High-Growth, Cash InefficientCompanies in the bottom-right quadrant have high growth potential due to strong LTV/CAC dynamics but given the slow payback, will require significant working capital to s'"
     },
     "execution_count": 43,
     "metadata": {},
     "output_type": "execute_result"
    }
   ],
   "source": [
    "# Search for text for the given idx in comparison_df\n",
    "\n",
    "comparison_df.loc[947][\"text_x\"]"
   ],
   "metadata": {
    "collapsed": false,
    "pycharm": {
     "name": "#%%\n"
    }
   }
  },
  {
   "cell_type": "code",
   "execution_count": null,
   "outputs": [],
   "source": [],
   "metadata": {
    "collapsed": false,
    "pycharm": {
     "name": "#%%\n"
    }
   }
  }
 ],
 "metadata": {
  "kernelspec": {
   "display_name": "Python 3",
   "language": "python",
   "name": "python3"
  },
  "language_info": {
   "codemirror_mode": {
    "name": "ipython",
    "version": 2
   },
   "file_extension": ".py",
   "mimetype": "text/x-python",
   "name": "python",
   "nbconvert_exporter": "python",
   "pygments_lexer": "ipython2",
   "version": "2.7.6"
  }
 },
 "nbformat": 4,
 "nbformat_minor": 0
}