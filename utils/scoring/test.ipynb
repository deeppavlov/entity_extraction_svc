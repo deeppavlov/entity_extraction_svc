{
 "cells": [
  {
   "cell_type": "code",
   "execution_count": 1,
   "metadata": {
    "collapsed": true,
    "pycharm": {
     "name": "#%%\n"
    }
   },
   "outputs": [],
   "source": [
    "from preprocess import transform_dataset\n",
    "from dandelion import extract_batch_dandelion"
   ]
  },
  {
   "cell_type": "code",
   "execution_count": 2,
   "outputs": [
    {
     "name": "stderr",
     "output_type": "stream",
     "text": [
      "Reusing dataset web_nlg (/home/mtalimanchuk/.cache/huggingface/datasets/web_nlg/webnlg_challenge_2017/0.0.0/28ffb892f7f42450dd9558684aa43bcaf44b1b3bf0d77cb8d73534646af88dda)\n"
     ]
    }
   ],
   "source": [
    "scoring_df = transform_dataset(save=True)"
   ],
   "metadata": {
    "collapsed": false,
    "pycharm": {
     "name": "#%%\n"
    }
   }
  },
  {
   "cell_type": "code",
   "execution_count": 3,
   "outputs": [
    {
     "name": "stderr",
     "output_type": "stream",
     "text": [
      "100%|██████████| 10/10 [00:02<00:00,  4.15it/s]"
     ]
    },
    {
     "name": "stdout",
     "output_type": "stream",
     "text": [
      "{'time': 2, 'annotations': [{'start': 0, 'end': 15, 'spot': 'Aaron S Daggett', 'confidence': 0.8044, 'id': 6815935, 'title': 'Aaron Daggett', 'uri': 'http://en.wikipedia.org/wiki/Aaron_Daggett', 'label': 'Aaron Daggett'}, {'start': 46, 'end': 62, 'spot': 'Aaron S. Daggett', 'confidence': 0.8044, 'id': 6815935, 'title': 'Aaron Daggett', 'uri': 'http://en.wikipedia.org/wiki/Aaron_Daggett', 'label': 'Aaron Daggett'}], 'lang': 'en', 'langConfidence': 1.0, 'timestamp': '2022-01-20T14:30:25.727'}\n",
      "['Aaron S. Daggett', 'Aaron S Daggett'] ['Aaron S. Daggett', 'Purple Heart']\n",
      "{'time': 4, 'annotations': [{'start': 4, 'end': 22, 'spot': 'Battle of Mine Run', 'confidence': 0.8818, 'id': 1653535, 'title': 'Battle of Mine Run', 'uri': 'http://en.wikipedia.org/wiki/Battle_of_Mine_Run', 'label': 'Mine Run Campaign'}, {'start': 41, 'end': 56, 'spot': 'Aaron S Daggett', 'confidence': 0.8044, 'id': 6815935, 'title': 'Aaron Daggett', 'uri': 'http://en.wikipedia.org/wiki/Aaron_Daggett', 'label': 'Aaron Daggett'}, {'start': 58, 'end': 74, 'spot': 'Aaron S. Daggett', 'confidence': 0.8044, 'id': 6815935, 'title': 'Aaron Daggett', 'uri': 'http://en.wikipedia.org/wiki/Aaron_Daggett', 'label': 'Aaron Daggett'}, {'start': 89, 'end': 107, 'spot': 'Battle of Mine Run', 'confidence': 0.8818, 'id': 1653535, 'title': 'Battle of Mine Run', 'uri': 'http://en.wikipedia.org/wiki/Battle_of_Mine_Run', 'label': 'Mine Run Campaign'}, {'start': 113, 'end': 131, 'spot': 'Battle of Mine Run', 'confidence': 0.8818, 'id': 1653535, 'title': 'Battle of Mine Run', 'uri': 'http://en.wikipedia.org/wiki/Battle_of_Mine_Run', 'label': 'Mine Run Campaign'}, {'start': 160, 'end': 176, 'spot': 'Aaron S. Daggett', 'confidence': 0.8044, 'id': 6815935, 'title': 'Aaron Daggett', 'uri': 'http://en.wikipedia.org/wiki/Aaron_Daggett', 'label': 'Aaron Daggett'}], 'lang': 'en', 'langConfidence': 1.0, 'timestamp': '2022-01-20T14:30:25.836'}\n",
      "['Aaron S. Daggett', 'Battle of Mine Run', 'Aaron S Daggett'] ['Aaron S. Daggett', 'Battle of Mine Run']\n",
      "{'time': 4, 'annotations': [{'start': 0, 'end': 10, 'spot': 'Stellendam', 'confidence': 0.8769, 'id': 4198478, 'title': 'Stellendam', 'uri': 'http://en.wikipedia.org/wiki/Stellendam', 'label': 'Stellendam'}, {'start': 12, 'end': 23, 'spot': 'Netherlands', 'confidence': 0.7993, 'id': 21148, 'title': 'Netherlands', 'uri': 'http://en.wikipedia.org/wiki/Netherlands', 'label': 'Netherlands'}, {'start': 45, 'end': 53, 'spot': 'Ab Klink', 'confidence': 0.8818, 'id': 9522347, 'title': 'Ab Klink', 'uri': 'http://en.wikipedia.org/wiki/Ab_Klink', 'label': 'Ab Klink'}, {'start': 55, 'end': 63, 'spot': 'Ab Klink', 'confidence': 0.8818, 'id': 9522347, 'title': 'Ab Klink', 'uri': 'http://en.wikipedia.org/wiki/Ab_Klink', 'label': 'Ab Klink'}, {'start': 76, 'end': 86, 'spot': 'Stellendam', 'confidence': 0.8769, 'id': 4198478, 'title': 'Stellendam', 'uri': 'http://en.wikipedia.org/wiki/Stellendam', 'label': 'Stellendam'}, {'start': 88, 'end': 99, 'spot': 'Netherlands', 'confidence': 0.7993, 'id': 21148, 'title': 'Netherlands', 'uri': 'http://en.wikipedia.org/wiki/Netherlands', 'label': 'Netherlands'}], 'lang': 'en', 'langConfidence': 0.5, 'timestamp': '2022-01-20T14:30:26.159'}\n",
      "['Ab Klink', 'Netherlands', 'Stellendam'] ['Ab Klink', 'Stellendam, Netherlands']\n",
      "{'time': 3, 'annotations': [{'start': 0, 'end': 19, 'spot': \"Abdul Rahman Ya'kub\", 'confidence': 0.9115, 'id': 2545569, 'title': \"Abdul Rahman Ya'kub\", 'uri': 'http://en.wikipedia.org/wiki/Abdul_Rahman_Ya%27kub', 'label': \"Abdul Rahman Ya'kub\"}, {'start': 40, 'end': 67, 'spot': 'Tuanku Bujang Tuanku Othman', 'confidence': 0.826, 'id': 27266964, 'title': 'Tuanku Bujang', 'uri': 'http://en.wikipedia.org/wiki/Tuanku_Bujang', 'label': 'Tun Tuanku Bujang Tuanku Othman'}, {'start': 88, 'end': 107, 'spot': \"Abdul Rahman Ya'kub\", 'confidence': 0.9115, 'id': 2545569, 'title': \"Abdul Rahman Ya'kub\", 'uri': 'http://en.wikipedia.org/wiki/Abdul_Rahman_Ya%27kub', 'label': \"Abdul Rahman Ya'kub\"}, {'start': 129, 'end': 156, 'spot': 'Tuanku Bujang Tuanku Othman', 'confidence': 0.826, 'id': 27266964, 'title': 'Tuanku Bujang', 'uri': 'http://en.wikipedia.org/wiki/Tuanku_Bujang', 'label': 'Tun Tuanku Bujang Tuanku Othman'}], 'lang': 'en', 'langConfidence': 0.4286, 'timestamp': '2022-01-20T14:30:26.254'}\n",
      "['Tuanku Bujang Tuanku Othman', \"Abdul Rahman Ya'kub\"] ['Tuanku Bujang Tuanku Othman', \"Abdul Rahman Ya'kub\"]\n",
      "{'time': 4, 'annotations': [{'start': 0, 'end': 17, 'spot': 'Abdul Taib Mahmud', 'confidence': 0.9353, 'id': 8703527, 'title': 'Abdul Taib Mahmud', 'uri': 'http://en.wikipedia.org/wiki/Abdul_Taib_Mahmud', 'label': 'Abdul Taib Mahmud'}, {'start': 33, 'end': 38, 'spot': 'party', 'confidence': 0.6478, 'id': 23996, 'title': 'Political party', 'uri': 'http://en.wikipedia.org/wiki/Political_party', 'label': 'Political party'}, {'start': 42, 'end': 66, 'spot': 'Parti Bumiputera Sarawak', 'confidence': 0.9487, 'id': 1649049, 'title': 'Parti Pesaka Bumiputera Bersatu', 'uri': 'http://en.wikipedia.org/wiki/Parti_Pesaka_Bumiputera_Bersatu', 'label': 'Parti Pesaka Bumiputera Bersatu'}, {'start': 68, 'end': 85, 'spot': 'Abdul Taib Mahmud', 'confidence': 0.9353, 'id': 8703527, 'title': 'Abdul Taib Mahmud', 'uri': 'http://en.wikipedia.org/wiki/Abdul_Taib_Mahmud', 'label': 'Abdul Taib Mahmud'}, {'start': 91, 'end': 97, 'spot': 'member', 'confidence': 0.7117, 'id': 1864012, 'title': 'Member of the Legislative Assembly', 'uri': 'http://en.wikipedia.org/wiki/Member_of_the_Legislative_Assembly', 'label': 'MLA'}, {'start': 105, 'end': 129, 'spot': 'Parti Bumiputera Sarawak', 'confidence': 0.9487, 'id': 1649049, 'title': 'Parti Pesaka Bumiputera Bersatu', 'uri': 'http://en.wikipedia.org/wiki/Parti_Pesaka_Bumiputera_Bersatu', 'label': 'Parti Pesaka Bumiputera Bersatu'}, {'start': 130, 'end': 135, 'spot': 'Party', 'confidence': 0.6478, 'id': 23996, 'title': 'Political party', 'uri': 'http://en.wikipedia.org/wiki/Political_party', 'label': 'Political party'}], 'lang': 'en', 'langConfidence': 0.2143, 'timestamp': '2022-01-20T14:30:26.364'}\n",
      "['party', 'member', 'Abdul Taib Mahmud', 'Party', 'Parti Bumiputera Sarawak'] ['Abdul Taib Mahmud', 'Parti Bumiputera Sarawak']\n",
      "{'message': 'Unmanaged language [id]', 'code': 'error.unmanagedLanguage', 'data': {'parameter': 'lang'}, 'error': True}\n",
      "[] ['Abdul Taib Mahmud', 'Sulaiman Abdul Rahman Taib']\n",
      "{'message': 'Unmanaged language [et]', 'code': 'error.unmanagedLanguage', 'data': {'parameter': 'lang'}, 'error': True}\n",
      "[] ['1999-05-29', 'Abdulsalami Abubakar']\n",
      "{'message': 'Unmanaged language [id]', 'code': 'error.unmanagedLanguage', 'data': {'parameter': 'lang'}, 'error': True}\n",
      "[] ['Minna', 'Abdulsalami Abubakar']\n",
      "{'message': 'Unmanaged language [id]', 'code': 'error.unmanagedLanguage', 'data': {'parameter': 'lang'}, 'error': True}\n",
      "[] ['Niger State', 'Abdulsalami Abubakar']\n",
      "{'time': 1, 'annotations': [{'start': 0, 'end': 14, 'spot': 'Abner W. Sibal', 'confidence': 0.8609, 'id': 11524738, 'title': 'Abner W. Sibal', 'uri': 'http://en.wikipedia.org/wiki/Abner_W._Sibal', 'label': 'Abner W. Sibal'}], 'lang': 'en', 'langConfidence': 0.9996, 'timestamp': '2022-01-20T14:30:26.816'}\n",
      "['Abner W. Sibal'] ['1965-01-03', 'Abner W. Sibal']\n"
     ]
    },
    {
     "name": "stderr",
     "output_type": "stream",
     "text": [
      "\n"
     ]
    }
   ],
   "source": [
    "# scoring_df[\"text\"][:10]\n",
    "# scoring_df[\"cleaned_entities\"][:10]\n",
    "\n",
    "dandelion_results = extract_batch_dandelion(scoring_df[\"text\"][:10])\n",
    "for x, y in zip(dandelion_results, scoring_df[\"cleaned_entities\"][:10]):\n",
    "    # do we only count spots or titles and labels also?\n",
    "    try:\n",
    "        predicted = list(set([ann[\"spot\"] for ann in x[\"annotations\"]]))\n",
    "    except KeyError:\n",
    "        predicted = []\n",
    "\n",
    "    print(x)\n",
    "    print(predicted, y)"
   ],
   "metadata": {
    "collapsed": false,
    "pycharm": {
     "name": "#%%\n"
    }
   }
  },
  {
   "cell_type": "code",
   "execution_count": null,
   "outputs": [],
   "source": [],
   "metadata": {
    "collapsed": false,
    "pycharm": {
     "name": "#%%\n"
    }
   }
  },
  {
   "cell_type": "code",
   "execution_count": 10,
   "outputs": [
    {
     "data": {
      "text/plain": "[('A', 1), ('A', 2)]"
     },
     "execution_count": 10,
     "metadata": {},
     "output_type": "execute_result"
    }
   ],
   "source": [
    "list({\"A\": 1}.items()) + list({\"A\": 2}.items())"
   ],
   "metadata": {
    "collapsed": false,
    "pycharm": {
     "name": "#%%\n"
    }
   }
  },
  {
   "cell_type": "code",
   "execution_count": 11,
   "outputs": [
    {
     "data": {
      "text/plain": "0    Aaron S Daggett was awarded the Purple Heart. ...\n1    The Battle of Mine Run was one fought by Aaron...\n2    Stellendam, Netherlands is the birthplace of A...\n3    Abdul Rahman Ya'kub was in office while Tuanku...\n4    Abdul Taib Mahmud belongs to the party of Part...\n5    Abdul Taib Mahmud's successor was Sulaiman Abd...\n6    Abdulsalami Abubakar ended his career on 1999-...\n7    Abdulsalami Abubakar was born in Minna. Minna ...\n8    Abdulsalami Abubakar's birthplace was Niger St...\n9    Abner W. Sibal ended his military career Janua...\nName: text, dtype: object"
     },
     "execution_count": 11,
     "metadata": {},
     "output_type": "execute_result"
    }
   ],
   "source": [
    "scoring_df[\"text\"][:10]"
   ],
   "metadata": {
    "collapsed": false,
    "pycharm": {
     "name": "#%%\n"
    }
   }
  },
  {
   "cell_type": "code",
   "execution_count": null,
   "outputs": [],
   "source": [],
   "metadata": {
    "collapsed": false,
    "pycharm": {
     "name": "#%%\n"
    }
   }
  }
 ],
 "metadata": {
  "kernelspec": {
   "display_name": "Python 3",
   "language": "python",
   "name": "python3"
  },
  "language_info": {
   "codemirror_mode": {
    "name": "ipython",
    "version": 2
   },
   "file_extension": ".py",
   "mimetype": "text/x-python",
   "name": "python",
   "nbconvert_exporter": "python",
   "pygments_lexer": "ipython2",
   "version": "2.7.6"
  }
 },
 "nbformat": 4,
 "nbformat_minor": 0
}